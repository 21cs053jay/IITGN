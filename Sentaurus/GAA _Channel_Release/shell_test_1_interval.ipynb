{
 "cells": [
  {
   "cell_type": "code",
   "execution_count": 2,
   "metadata": {},
   "outputs": [],
   "source": [
    "import pandas as pd\n",
    "import numpy as np\n",
    "import random"
   ]
  },
  {
   "cell_type": "code",
   "execution_count": 2,
   "metadata": {},
   "outputs": [],
   "source": [
    "# ArExponent_min, ArExponent_max = 1, 100\n",
    "# FExponent_min, FExponent_max = 1,100\n",
    "\n",
    "HCl_flux_min, HCl_flux_max = 0.00072, 0.00372\n",
    "\n",
    "\n",
    "# yield_at_zero1_min, yield_at_zero1_max = 1,5\n",
    "# yield_at_zero2_min, yield_at_zero2_max = 1,5\n",
    "# yield_at_zero3_min, yield_at_zero3_max = 1,5\n",
    "\n",
    "# theta_max1_min, theta_max1_max = 30,90\n",
    "# theta_max2_min, theta_max1_max = 30,90\n",
    "# theta_max3_min, theta_max1_max = 30,90\n",
    "\n",
    "# mizk_min, mizk_max = 0.001,0.005\n",
    "\n",
    "# p1_min, p1_max = 0, 0.002\n",
    "# p2_min, p2_max = 0.8, 1\n",
    "# p3_min, p3_max = 0, 0.002\n",
    "# p4_min, p4_max = 0.5,0.9\n",
    "# p5_min, p5_max = 0, 0.0002\n"
   ]
  },
  {
   "cell_type": "markdown",
   "metadata": {},
   "source": [
    "Calculating const"
   ]
  },
  {
   "cell_type": "code",
   "execution_count": 3,
   "metadata": {},
   "outputs": [
    {
     "data": {
      "text/plain": [
       "0.02"
      ]
     },
     "execution_count": 3,
     "metadata": {},
     "output_type": "execute_result"
    }
   ],
   "source": [
    "sample_value_flux, sample_value_time = 0.0031, 6.2\n",
    "sample_value_flux2, sample_value_time2 = 0.0009, 23\n",
    "\n",
    "sample_const1, sample_const2 = sample_value_flux*sample_value_time, sample_value_flux2*sample_value_time2\n",
    "\n",
    "#print(sample_const1, sample_const2) \n",
    "\n",
    "const = (sample_const1 + sample_const2)/2\n",
    "const = round(const,2)\n",
    "const"
   ]
  },
  {
   "cell_type": "code",
   "execution_count": 129,
   "metadata": {},
   "outputs": [],
   "source": [
    "features = ['HCl_flux',\n",
    "            'time_t'\n",
    "            # 'FrExponent',\n",
    "            # 'yield_at_zero1',\n",
    "            # 'yield_at_zero2',\n",
    "            # 'yield_at_zero3',\n",
    "            # 'yield_max1',\n",
    "            # 'yield_max2',\n",
    "            # 'yield_max3',\n",
    "            # 'theta_max1',\n",
    "            # 'theta_max2',\n",
    "            # 'theta_max3',\n",
    "            # 'mizk',\n",
    "            # 'p3',\n",
    "            # 'p4',\n",
    "            # 'p5'\n",
    "            ]"
   ]
  },
  {
   "cell_type": "code",
   "execution_count": 130,
   "metadata": {},
   "outputs": [],
   "source": [
    "feature_range_values = [[0.0001, 0.00972],\n",
    "                        [5, 28]\n",
    "                        # [1,100],\n",
    "                        # [1,100],\n",
    "                        # [1,5],\n",
    "                        # [1,5],\n",
    "                        # [1,5],\n",
    "                        # [1,10],\n",
    "                        # [1,10],\n",
    "                        # [1,10],\n",
    "                        # [30,90],\n",
    "                        # [30,90],\n",
    "                        # [30,90],\n",
    "                        # [0.005,0.05],\n",
    "                        # [0, 0.002],\n",
    "                        # [0.8, 1],\n",
    "                        # [0, 0.002],\n",
    "                        # [0.5,0.9],\n",
    "                        # [0, 0.0002]\n",
    "                        ]"
   ]
  },
  {
   "cell_type": "code",
   "execution_count": 131,
   "metadata": {},
   "outputs": [],
   "source": [
    "features_ranges = {}\n",
    "for i in range(len(features)):\n",
    "    features_ranges[features[i]] = feature_range_values[i]"
   ]
  },
  {
   "cell_type": "code",
   "execution_count": 132,
   "metadata": {},
   "outputs": [
    {
     "data": {
      "text/plain": [
       "2"
      ]
     },
     "execution_count": 132,
     "metadata": {},
     "output_type": "execute_result"
    }
   ],
   "source": [
    "num_samples = int((feature_range_values[0][1] - feature_range_values[0][0])*10000)\n",
    "number_of_features = len(features)\n",
    "number_of_features"
   ]
  },
  {
   "cell_type": "code",
   "execution_count": 133,
   "metadata": {},
   "outputs": [
    {
     "data": {
      "text/plain": [
       "96"
      ]
     },
     "execution_count": 133,
     "metadata": {},
     "output_type": "execute_result"
    }
   ],
   "source": [
    "num_samples"
   ]
  },
  {
   "cell_type": "code",
   "execution_count": 134,
   "metadata": {},
   "outputs": [],
   "source": [
    "X = np.empty((num_samples,2))\n",
    "i = 1\n",
    "for i in range(num_samples):\n",
    "        X[i][0] = round(feature_range_values[0][0]+(i/10000),6)"
   ]
  },
  {
   "cell_type": "code",
   "execution_count": 135,
   "metadata": {},
   "outputs": [],
   "source": [
    "import math\n",
    "for i in range(len(X)):\n",
    "    X[i][1] = round(const/X[i][0],2)"
   ]
  },
  {
   "cell_type": "code",
   "execution_count": 136,
   "metadata": {},
   "outputs": [
    {
     "data": {
      "text/plain": [
       "array([0.0001, 0.0002, 0.0003, 0.0004, 0.0005, 0.0006, 0.0007, 0.0008,\n",
       "       0.0009, 0.001 , 0.0011, 0.0012, 0.0013, 0.0014, 0.0015, 0.0016,\n",
       "       0.0017, 0.0018, 0.0019, 0.002 , 0.0021, 0.0022, 0.0023, 0.0024,\n",
       "       0.0025, 0.0026, 0.0027, 0.0028, 0.0029, 0.003 , 0.0031, 0.0032,\n",
       "       0.0033, 0.0034, 0.0035, 0.0036, 0.0037, 0.0038, 0.0039, 0.004 ,\n",
       "       0.0041, 0.0042, 0.0043, 0.0044, 0.0045, 0.0046, 0.0047, 0.0048,\n",
       "       0.0049, 0.005 , 0.0051, 0.0052, 0.0053, 0.0054, 0.0055, 0.0056,\n",
       "       0.0057, 0.0058, 0.0059, 0.006 , 0.0061, 0.0062, 0.0063, 0.0064,\n",
       "       0.0065, 0.0066, 0.0067, 0.0068, 0.0069, 0.007 , 0.0071, 0.0072,\n",
       "       0.0073, 0.0074, 0.0075, 0.0076, 0.0077, 0.0078, 0.0079, 0.008 ,\n",
       "       0.0081, 0.0082, 0.0083, 0.0084, 0.0085, 0.0086, 0.0087, 0.0088,\n",
       "       0.0089, 0.009 , 0.0091, 0.0092, 0.0093, 0.0094, 0.0095, 0.0096])"
      ]
     },
     "execution_count": 136,
     "metadata": {},
     "output_type": "execute_result"
    }
   ],
   "source": [
    "y = np.unique(X[:,0])\n",
    "y"
   ]
  },
  {
   "cell_type": "code",
   "execution_count": 137,
   "metadata": {},
   "outputs": [
    {
     "data": {
      "text/plain": [
       "(array([10.,  9., 10.,  9., 10., 10.,  9.,  9., 10., 10.]),\n",
       " array([0.0001 , 0.00105, 0.002  , 0.00295, 0.0039 , 0.00485, 0.0058 ,\n",
       "        0.00675, 0.0077 , 0.00865, 0.0096 ]),\n",
       " <BarContainer object of 10 artists>)"
      ]
     },
     "execution_count": 137,
     "metadata": {},
     "output_type": "execute_result"
    },
    {
     "data": {
      "image/png": "[encoded data removed]",
      "text/plain": [
       "<Figure size 640x480 with 1 Axes>"
      ]
     },
     "metadata": {},
     "output_type": "display_data"
    }
   ],
   "source": [
    "import matplotlib.pyplot as plt\n",
    "\n",
    "plt.hist(X[:,0])"
   ]
  },
  {
   "cell_type": "code",
   "execution_count": 138,
   "metadata": {},
   "outputs": [],
   "source": [
    "# for i in range(len(X)):\n",
    "#     if (X[i][17] < X[i][14]):\n",
    "#         while (X[i][17] < X[i][14]):\n",
    "#             X[i][17] = round(random.uniform(feature_range_values[17][0], feature_range_values[17][1]),4)\n",
    "#     if (X[i][18] < X[i][15]):\n",
    "#         while (X[i][18] < X[i][15]):\n",
    "#             X[i][18] = round(random.uniform(feature_range_values[18][0], feature_range_values[18][1]),4)\n",
    "#     if (X[i][19] < X[i][16]):\n",
    "#         while (X[i][19] < X[i][16]):\n",
    "#             X[i][19] = round(random.uniform(feature_range_values[19][0], feature_range_values[19][1]),4)"
   ]
  },
  {
   "cell_type": "code",
   "execution_count": 139,
   "metadata": {},
   "outputs": [],
   "source": [
    "X_dataframe = pd.DataFrame(X,columns = features)"
   ]
  },
  {
   "cell_type": "code",
   "execution_count": 140,
   "metadata": {},
   "outputs": [],
   "source": [
    "X_dataframe.drop_duplicates(subset=['HCl_flux'], inplace=True)"
   ]
  },
  {
   "cell_type": "code",
   "execution_count": 141,
   "metadata": {},
   "outputs": [
    {
     "data": {
      "text/html": [
       "<div>\n",
       "<style scoped>\n",
       "    .dataframe tbody tr th:only-of-type {\n",
       "        vertical-align: middle;\n",
       "    }\n",
       "\n",
       "    .dataframe tbody tr th {\n",
       "        vertical-align: top;\n",
       "    }\n",
       "\n",
       "    .dataframe thead th {\n",
       "        text-align: right;\n",
       "    }\n",
       "</style>\n",
       "<table border=\"1\" class=\"dataframe\">\n",
       "  <thead>\n",
       "    <tr style=\"text-align: right;\">\n",
       "      <th></th>\n",
       "      <th>index</th>\n",
       "      <th>HCl_flux</th>\n",
       "      <th>time_t</th>\n",
       "    </tr>\n",
       "  </thead>\n",
       "  <tbody>\n",
       "    <tr>\n",
       "      <th>0</th>\n",
       "      <td>0</td>\n",
       "      <td>0.0001</td>\n",
       "      <td>200.00</td>\n",
       "    </tr>\n",
       "    <tr>\n",
       "      <th>1</th>\n",
       "      <td>1</td>\n",
       "      <td>0.0002</td>\n",
       "      <td>100.00</td>\n",
       "    </tr>\n",
       "    <tr>\n",
       "      <th>2</th>\n",
       "      <td>2</td>\n",
       "      <td>0.0003</td>\n",
       "      <td>66.67</td>\n",
       "    </tr>\n",
       "    <tr>\n",
       "      <th>3</th>\n",
       "      <td>3</td>\n",
       "      <td>0.0004</td>\n",
       "      <td>50.00</td>\n",
       "    </tr>\n",
       "    <tr>\n",
       "      <th>4</th>\n",
       "      <td>4</td>\n",
       "      <td>0.0005</td>\n",
       "      <td>40.00</td>\n",
       "    </tr>\n",
       "    <tr>\n",
       "      <th>...</th>\n",
       "      <td>...</td>\n",
       "      <td>...</td>\n",
       "      <td>...</td>\n",
       "    </tr>\n",
       "    <tr>\n",
       "      <th>91</th>\n",
       "      <td>91</td>\n",
       "      <td>0.0092</td>\n",
       "      <td>2.17</td>\n",
       "    </tr>\n",
       "    <tr>\n",
       "      <th>92</th>\n",
       "      <td>92</td>\n",
       "      <td>0.0093</td>\n",
       "      <td>2.15</td>\n",
       "    </tr>\n",
       "    <tr>\n",
       "      <th>93</th>\n",
       "      <td>93</td>\n",
       "      <td>0.0094</td>\n",
       "      <td>2.13</td>\n",
       "    </tr>\n",
       "    <tr>\n",
       "      <th>94</th>\n",
       "      <td>94</td>\n",
       "      <td>0.0095</td>\n",
       "      <td>2.11</td>\n",
       "    </tr>\n",
       "    <tr>\n",
       "      <th>95</th>\n",
       "      <td>95</td>\n",
       "      <td>0.0096</td>\n",
       "      <td>2.08</td>\n",
       "    </tr>\n",
       "  </tbody>\n",
       "</table>\n",
       "<p>96 rows × 3 columns</p>\n",
       "</div>"
      ],
      "text/plain": [
       "    index  HCl_flux  time_t\n",
       "0       0    0.0001  200.00\n",
       "1       1    0.0002  100.00\n",
       "2       2    0.0003   66.67\n",
       "3       3    0.0004   50.00\n",
       "4       4    0.0005   40.00\n",
       "..    ...       ...     ...\n",
       "91     91    0.0092    2.17\n",
       "92     92    0.0093    2.15\n",
       "93     93    0.0094    2.13\n",
       "94     94    0.0095    2.11\n",
       "95     95    0.0096    2.08\n",
       "\n",
       "[96 rows x 3 columns]"
      ]
     },
     "execution_count": 141,
     "metadata": {},
     "output_type": "execute_result"
    }
   ],
   "source": [
    "X_dataframe.reset_index()"
   ]
  },
  {
   "cell_type": "code",
   "execution_count": 142,
   "metadata": {},
   "outputs": [
    {
     "data": {
      "text/plain": [
       "0.02"
      ]
     },
     "execution_count": 142,
     "metadata": {},
     "output_type": "execute_result"
    }
   ],
   "source": [
    "round((X_dataframe['HCl_flux']*X_dataframe['time_t']).mean(),2)"
   ]
  },
  {
   "cell_type": "code",
   "execution_count": 143,
   "metadata": {},
   "outputs": [
    {
     "data": {
      "text/plain": [
       "46"
      ]
     },
     "execution_count": 143,
     "metadata": {},
     "output_type": "execute_result"
    }
   ],
   "source": [
    "(X_dataframe['time_t']<4).sum()"
   ]
  },
  {
   "cell_type": "code",
   "execution_count": 161,
   "metadata": {},
   "outputs": [
    {
     "data": {
      "text/plain": [
       "0     40.00\n",
       "1     20.00\n",
       "2     13.33\n",
       "3     10.00\n",
       "4      8.00\n",
       "      ...  \n",
       "91     0.43\n",
       "92     0.43\n",
       "93     0.43\n",
       "94     0.42\n",
       "95     0.42\n",
       "Name: interval, Length: 96, dtype: float64"
      ]
     },
     "execution_count": 161,
     "metadata": {},
     "output_type": "execute_result"
    }
   ],
   "source": [
    "X_dataframe['interval'] = X_dataframe['time_t'].apply(lambda x: round(x/5,2))\n",
    "X_dataframe['interval']"
   ]
  },
  {
   "cell_type": "code",
   "execution_count": 178,
   "metadata": {},
   "outputs": [],
   "source": [
    "new_X_df = pd.DataFrame()\n",
    "\n",
    "for index, row in X_dataframe.iterrows():\n",
    "    if row['interval']==0:\n",
    "        arr_dict = {'HCl_flux':row['HCl_flux'], 'time_t1': row['interval']+1, 'time_t2': row['interval']+2, 'time_t3': row['interval']+3, 'time_t4': row['interval']+4, 'time_t5': row['interval']+5, \n",
    "                'rel_time':1,'last':1}\n",
    "    else: \n",
    "        last_interval = round(row['time_t'] - row['interval']*4,2)\n",
    "        arr_dict = {'HCl_flux':row['HCl_flux'], 'time_t1': round(row['interval'],2), 'time_t2': round(row['interval']*2,2), 'time_t3': round(row['interval']*3,2), 'time_t4': round(row['interval']*4,2), 'time_t5': row['time_t'], \n",
    "                'rel_time':row['interval'],'last':last_interval}\n",
    "        \n",
    "    new_X_df = new_X_df._append(arr_dict, ignore_index=True)"
   ]
  },
  {
   "cell_type": "code",
   "execution_count": 179,
   "metadata": {},
   "outputs": [
    {
     "data": {
      "text/html": [
       "<div>\n",
       "<style scoped>\n",
       "    .dataframe tbody tr th:only-of-type {\n",
       "        vertical-align: middle;\n",
       "    }\n",
       "\n",
       "    .dataframe tbody tr th {\n",
       "        vertical-align: top;\n",
       "    }\n",
       "\n",
       "    .dataframe thead th {\n",
       "        text-align: right;\n",
       "    }\n",
       "</style>\n",
       "<table border=\"1\" class=\"dataframe\">\n",
       "  <thead>\n",
       "    <tr style=\"text-align: right;\">\n",
       "      <th></th>\n",
       "      <th>HCl_flux</th>\n",
       "      <th>time_t1</th>\n",
       "      <th>time_t2</th>\n",
       "      <th>time_t3</th>\n",
       "      <th>time_t4</th>\n",
       "      <th>time_t5</th>\n",
       "      <th>rel_time</th>\n",
       "      <th>last</th>\n",
       "    </tr>\n",
       "  </thead>\n",
       "  <tbody>\n",
       "    <tr>\n",
       "      <th>0</th>\n",
       "      <td>0.0001</td>\n",
       "      <td>40.00</td>\n",
       "      <td>80.00</td>\n",
       "      <td>120.00</td>\n",
       "      <td>160.00</td>\n",
       "      <td>200.00</td>\n",
       "      <td>40.00</td>\n",
       "      <td>40.00</td>\n",
       "    </tr>\n",
       "    <tr>\n",
       "      <th>1</th>\n",
       "      <td>0.0002</td>\n",
       "      <td>20.00</td>\n",
       "      <td>40.00</td>\n",
       "      <td>60.00</td>\n",
       "      <td>80.00</td>\n",
       "      <td>100.00</td>\n",
       "      <td>20.00</td>\n",
       "      <td>20.00</td>\n",
       "    </tr>\n",
       "    <tr>\n",
       "      <th>2</th>\n",
       "      <td>0.0003</td>\n",
       "      <td>13.33</td>\n",
       "      <td>26.66</td>\n",
       "      <td>39.99</td>\n",
       "      <td>53.32</td>\n",
       "      <td>66.67</td>\n",
       "      <td>13.33</td>\n",
       "      <td>13.35</td>\n",
       "    </tr>\n",
       "    <tr>\n",
       "      <th>3</th>\n",
       "      <td>0.0004</td>\n",
       "      <td>10.00</td>\n",
       "      <td>20.00</td>\n",
       "      <td>30.00</td>\n",
       "      <td>40.00</td>\n",
       "      <td>50.00</td>\n",
       "      <td>10.00</td>\n",
       "      <td>10.00</td>\n",
       "    </tr>\n",
       "    <tr>\n",
       "      <th>4</th>\n",
       "      <td>0.0005</td>\n",
       "      <td>8.00</td>\n",
       "      <td>16.00</td>\n",
       "      <td>24.00</td>\n",
       "      <td>32.00</td>\n",
       "      <td>40.00</td>\n",
       "      <td>8.00</td>\n",
       "      <td>8.00</td>\n",
       "    </tr>\n",
       "    <tr>\n",
       "      <th>...</th>\n",
       "      <td>...</td>\n",
       "      <td>...</td>\n",
       "      <td>...</td>\n",
       "      <td>...</td>\n",
       "      <td>...</td>\n",
       "      <td>...</td>\n",
       "      <td>...</td>\n",
       "      <td>...</td>\n",
       "    </tr>\n",
       "    <tr>\n",
       "      <th>91</th>\n",
       "      <td>0.0092</td>\n",
       "      <td>0.43</td>\n",
       "      <td>0.86</td>\n",
       "      <td>1.29</td>\n",
       "      <td>1.72</td>\n",
       "      <td>2.17</td>\n",
       "      <td>0.43</td>\n",
       "      <td>0.45</td>\n",
       "    </tr>\n",
       "    <tr>\n",
       "      <th>92</th>\n",
       "      <td>0.0093</td>\n",
       "      <td>0.43</td>\n",
       "      <td>0.86</td>\n",
       "      <td>1.29</td>\n",
       "      <td>1.72</td>\n",
       "      <td>2.15</td>\n",
       "      <td>0.43</td>\n",
       "      <td>0.43</td>\n",
       "    </tr>\n",
       "    <tr>\n",
       "      <th>93</th>\n",
       "      <td>0.0094</td>\n",
       "      <td>0.43</td>\n",
       "      <td>0.86</td>\n",
       "      <td>1.29</td>\n",
       "      <td>1.72</td>\n",
       "      <td>2.13</td>\n",
       "      <td>0.43</td>\n",
       "      <td>0.41</td>\n",
       "    </tr>\n",
       "    <tr>\n",
       "      <th>94</th>\n",
       "      <td>0.0095</td>\n",
       "      <td>0.42</td>\n",
       "      <td>0.84</td>\n",
       "      <td>1.26</td>\n",
       "      <td>1.68</td>\n",
       "      <td>2.11</td>\n",
       "      <td>0.42</td>\n",
       "      <td>0.43</td>\n",
       "    </tr>\n",
       "    <tr>\n",
       "      <th>95</th>\n",
       "      <td>0.0096</td>\n",
       "      <td>0.42</td>\n",
       "      <td>0.84</td>\n",
       "      <td>1.26</td>\n",
       "      <td>1.68</td>\n",
       "      <td>2.08</td>\n",
       "      <td>0.42</td>\n",
       "      <td>0.40</td>\n",
       "    </tr>\n",
       "  </tbody>\n",
       "</table>\n",
       "<p>96 rows × 8 columns</p>\n",
       "</div>"
      ],
      "text/plain": [
       "    HCl_flux  time_t1  time_t2  time_t3  time_t4  time_t5  rel_time   last\n",
       "0     0.0001    40.00    80.00   120.00   160.00   200.00     40.00  40.00\n",
       "1     0.0002    20.00    40.00    60.00    80.00   100.00     20.00  20.00\n",
       "2     0.0003    13.33    26.66    39.99    53.32    66.67     13.33  13.35\n",
       "3     0.0004    10.00    20.00    30.00    40.00    50.00     10.00  10.00\n",
       "4     0.0005     8.00    16.00    24.00    32.00    40.00      8.00   8.00\n",
       "..       ...      ...      ...      ...      ...      ...       ...    ...\n",
       "91    0.0092     0.43     0.86     1.29     1.72     2.17      0.43   0.45\n",
       "92    0.0093     0.43     0.86     1.29     1.72     2.15      0.43   0.43\n",
       "93    0.0094     0.43     0.86     1.29     1.72     2.13      0.43   0.41\n",
       "94    0.0095     0.42     0.84     1.26     1.68     2.11      0.42   0.43\n",
       "95    0.0096     0.42     0.84     1.26     1.68     2.08      0.42   0.40\n",
       "\n",
       "[96 rows x 8 columns]"
      ]
     },
     "execution_count": 179,
     "metadata": {},
     "output_type": "execute_result"
    }
   ],
   "source": [
    "new_X_df"
   ]
  },
  {
   "cell_type": "code",
   "execution_count": 180,
   "metadata": {},
   "outputs": [],
   "source": [
    "sed = \"sed  -e 's/HCl_flux/'$HCl_flux'/g' -e 's/time_t1/'$time_t1'/g' -e 's/time_t2/'$time_t2'/g' -e 's/time_t3/'$time_t3'/g' -e 's/time_t4/'$time_t4'/g' -e 's/time_t5/'$time_t5'/g' -e 's/rel_time/'$rel_time'/g' -e 's/last/'$last'/g' channel_release.cmd > temp_channel_release.cmd\\n\"\n",
    "# sed2 = \"sed  -e  's/HCl_flux/'$HCl_flux'/g' -e 's/time_t/'$time_t'/g' etching_data_extraction.cmd > temp_etching_data_extraction.cmd\\n\""
   ]
  },
  {
   "cell_type": "code",
   "execution_count": 181,
   "metadata": {},
   "outputs": [],
   "source": [
    "features = new_X_df.columns"
   ]
  },
  {
   "cell_type": "code",
   "execution_count": 182,
   "metadata": {},
   "outputs": [],
   "source": [
    "file_name = ''\n",
    "for feature in features:\n",
    "    file_name+=f\"_{feature}\""
   ]
  },
  {
   "cell_type": "code",
   "execution_count": 183,
   "metadata": {},
   "outputs": [
    {
     "data": {
      "text/plain": [
       "'_HCl_flux_time_t1_time_t2_time_t3_time_t4_time_t5_rel_time_last'"
      ]
     },
     "execution_count": 183,
     "metadata": {},
     "output_type": "execute_result"
    }
   ],
   "source": [
    "file_name"
   ]
  },
  {
   "cell_type": "code",
   "execution_count": 184,
   "metadata": {},
   "outputs": [],
   "source": [
    "run_files = 'stopo temp_channel_release.cmd\\n'\n",
    "# run_files+= 'stopo temp_etching_data_extraction.cmd\\n'\n"
   ]
  },
  {
   "cell_type": "code",
   "execution_count": 185,
   "metadata": {},
   "outputs": [],
   "source": [
    "# text  = ''\n",
    "\n",
    "# for i in range(10):\n",
    "    \n",
    "#     params = ''\n",
    "#     dir_name = ''\n",
    "#     for j in range(2):\n",
    "#         params += f'{features[j]}={X[i][j]}\\n'\n",
    "#         dir_name += f'_{X[i][j]}'\n",
    "#     text+= f'mkdir -p csvfiles/file{dir_name}\\n'\n",
    "#     text+= f'mkdir -p tdrfiles/file{dir_name}\\n'\n",
    "#     text+= 'export '\n",
    "#     text += params\n",
    "#         # text += f\"time_t={k+1}\\n\"\n",
    "#     text += sed\n",
    "#         # text += sed2\n",
    "#     text += run_files\n",
    "       "
   ]
  },
  {
   "cell_type": "code",
   "execution_count": 186,
   "metadata": {},
   "outputs": [],
   "source": [
    "text = ''\n",
    "i = 0\n",
    "for index, row in new_X_df.iterrows():\n",
    "        params = ''\n",
    "        params += f'{new_X_df.columns[0]}={row[0]}\\n{new_X_df.columns[1]}={row[1]}\\n{new_X_df.columns[2]}={row[2]}\\n{new_X_df.columns[3]}={row[3]}\\n{new_X_df.columns[4]}={row[4]}\\n{new_X_df.columns[5]}={row[5]}\\n{new_X_df.columns[6]}={row[6]}\\n{new_X_df.columns[7]}={row[7]}\\n'\n",
    "        text+= 'export '\n",
    "        text+= params\n",
    "        text += sed\n",
    "        text += run_files\n",
    "        i+=1"
   ]
  },
  {
   "cell_type": "code",
   "execution_count": 187,
   "metadata": {},
   "outputs": [],
   "source": [
    "with open('./shell_channel_release.sh','w') as file:\n",
    "    file.write(text)"
   ]
  },
  {
   "cell_type": "markdown",
   "metadata": {},
   "source": [
    "extract"
   ]
  },
  {
   "cell_type": "code",
   "execution_count": 188,
   "metadata": {},
   "outputs": [],
   "source": [
    "sed_e = f\"sed  -e 's/HCl_flux/'$HCl_flux'/g' -e 's/time/'$time'/g' extract.cmd > temp_extract.cmd\\n\"\n",
    "run_files_e = f\"sptopo3d temp_extract.cmd\\n\""
   ]
  },
  {
   "cell_type": "code",
   "execution_count": 198,
   "metadata": {},
   "outputs": [],
   "source": [
    "text = ''\n",
    "i = 0\n",
    "for index, row in new_X_df.iterrows():\n",
    "\n",
    "        params = ''\n",
    "        params += f'HCl_flux={row[0]}\\ntime={row[1]}\\n'\n",
    "        text+=f'mkdir -p csvfiles/file_{row[0]}\\n'\n",
    "        text+= 'export '\n",
    "        text+= params\n",
    "        text += sed_e\n",
    "        text += run_files_e\n",
    "\n",
    "        params = ''\n",
    "        params += f'HCl_flux={row[0]}\\ntime={row[2]}\\n'\n",
    "        text+= 'export '\n",
    "        text+= params\n",
    "        text += sed_e\n",
    "        text += run_files_e\n",
    "\n",
    "        params = ''\n",
    "        params += f'HCl_flux={row[0]}\\ntime={row[3]}\\n'\n",
    "        text+= 'export '\n",
    "        text+= params\n",
    "        text += sed_e\n",
    "        text += run_files_e\n",
    "\n",
    "        params = ''\n",
    "        params += f'HCl_flux={row[0]}\\ntime={row[4]}\\n'\n",
    "        text+= 'export '\n",
    "        text+= params\n",
    "        text += sed_e\n",
    "        text += run_files_e\n",
    "\n",
    "        params = ''\n",
    "        params += f'HCl_flux={row[0]}\\ntime={row[5]}\\n'\n",
    "        text+= 'export '\n",
    "        text+= params\n",
    "        text += sed_e\n",
    "        text += run_files_e\n",
    "        \n",
    "        i+=1"
   ]
  },
  {
   "cell_type": "code",
   "execution_count": 199,
   "metadata": {},
   "outputs": [],
   "source": [
    "with open('./shell_extract.sh','w') as file:\n",
    "    file.write(text)"
   ]
  },
  {
   "cell_type": "markdown",
   "metadata": {},
   "source": [
    "Images\n"
   ]
  },
  {
   "cell_type": "code",
   "execution_count": 191,
   "metadata": {},
   "outputs": [],
   "source": [
    "sed_i = f\"sed  -e 's/HCl_flux/'$HCl_flux'/g' -e 's/time/'$time'/g' image.tcl > temp_image.tcl\\n\"\n",
    "run_files_i = f\"svisual -bx temp_image.tcl\\n\""
   ]
  },
  {
   "cell_type": "code",
   "execution_count": 192,
   "metadata": {},
   "outputs": [],
   "source": [
    "text = ''\n",
    "mkdir = ''\n",
    "i = 0\n",
    "for index, row in new_X_df.iterrows():\n",
    "        mkdir = f'mkdir -p images/file_{row[0]}\\n'\n",
    "        text+=mkdir\n",
    "        params = ''\n",
    "        params += f'HCl_flux={row[0]}\\ntime={row[1]}\\n'\n",
    "        text+= 'export '\n",
    "        text+= params\n",
    "        text += sed_i\n",
    "        text += run_files_i\n",
    "\n",
    "        params = ''\n",
    "        params += f'HCl_flux={row[0]}\\ntime={row[2]}\\n'\n",
    "        text+= 'export '\n",
    "        text+= params\n",
    "        text += sed_i\n",
    "        text += run_files_i\n",
    "\n",
    "        params = ''\n",
    "        params += f'HCl_flux={row[0]}\\ntime={row[3]}\\n'\n",
    "        text+= 'export '\n",
    "        text+= params\n",
    "        text += sed_i\n",
    "        text += run_files_i\n",
    "\n",
    "        params = ''\n",
    "        params += f'HCl_flux={row[0]}\\ntime={row[4]}\\n'\n",
    "        text+= 'export '\n",
    "        text+= params\n",
    "        text += sed_i\n",
    "        text += run_files_i\n",
    "\n",
    "        i+=1"
   ]
  },
  {
   "cell_type": "code",
   "execution_count": 193,
   "metadata": {},
   "outputs": [],
   "source": [
    "with open('./images.sh','w') as file:\n",
    "    file.write(text)"
   ]
  },
  {
   "cell_type": "code",
   "execution_count": null,
   "metadata": {},
   "outputs": [],
   "source": []
  }
 ],
 "metadata": {
  "kernelspec": {
   "display_name": "Python 3",
   "language": "python",
   "name": "python3"
  },
  "language_info": {
   "codemirror_mode": {
    "name": "ipython",
    "version": 3
   },
   "file_extension": ".py",
   "mimetype": "text/x-python",
   "name": "python",
   "nbconvert_exporter": "python",
   "pygments_lexer": "ipython3",
   "version": "3.11.3"
  },
  "orig_nbformat": 4,
  "vscode": {
   "interpreter": {
    "hash": "aee8b7b246df8f9039afb4144a1f6fd8d2ca17a180786b69acc140d282b71a49"
   }
  }
 },
 "nbformat": 4,
 "nbformat_minor": 2
}
