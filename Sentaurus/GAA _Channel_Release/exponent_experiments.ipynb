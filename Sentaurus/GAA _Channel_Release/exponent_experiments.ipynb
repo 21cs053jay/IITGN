{
 "cells": [
  {
   "cell_type": "code",
   "execution_count": 1,
   "metadata": {},
   "outputs": [],
   "source": [
    "import pandas as pd"
   ]
  },
  {
   "cell_type": "code",
   "execution_count": 13,
   "metadata": {},
   "outputs": [],
   "source": [
    "# df_1_01 = pd.read_csv('expo_1.csv')\n",
    "# df_1_91 = pd.read_csv('expo_1_9.1.csv')\n",
    "# df_1_01 = df_1_01[30:-30]\n",
    "# df_1_91 = df_1_91[30:-30]"
   ]
  },
  {
   "cell_type": "code",
   "execution_count": 14,
   "metadata": {},
   "outputs": [
    {
     "data": {
      "text/plain": [
       "'Average Roughness: 0.00016408506358375763'"
      ]
     },
     "execution_count": 14,
     "metadata": {},
     "output_type": "execute_result"
    }
   ],
   "source": [
    "# f'Average Roughness: {0.005 - df_1_01.mean()[6]}\\n\\n\\n}'"
   ]
  },
  {
   "cell_type": "code",
   "execution_count": 22,
   "metadata": {},
   "outputs": [
    {
     "data": {
      "text/plain": [
       "'Average Roughness: 0.000291255396486831'"
      ]
     },
     "execution_count": 22,
     "metadata": {},
     "output_type": "execute_result"
    }
   ],
   "source": [
    "# df_1_91_approx = pd.read_csv('expo_1_9.1approx.csv')\n",
    "# df_1_91_approx = df_1_91_approx[30:-30]\n",
    "# f'Average Roughness: {0.005 - df_1_91_approx.mean()[6]}'"
   ]
  },
  {
   "cell_type": "code",
   "execution_count": 15,
   "metadata": {},
   "outputs": [
    {
     "data": {
      "text/plain": [
       "'Average Roughness: 0.000160438217075759'"
      ]
     },
     "execution_count": 15,
     "metadata": {},
     "output_type": "execute_result"
    }
   ],
   "source": [
    "# f'Average Roughness: {0.005 - df_1_91.mean()[6]}'"
   ]
  },
  {
   "cell_type": "code",
   "execution_count": 16,
   "metadata": {},
   "outputs": [
    {
     "data": {
      "text/plain": [
       "'Average Roughness: 0.000155046356885076'"
      ]
     },
     "execution_count": 16,
     "metadata": {},
     "output_type": "execute_result"
    }
   ],
   "source": [
    "# df_5000_91 = pd.read_csv('expo_5000_9.1.csv')\n",
    "# df_5000_91 = df_5000_91[30:-30]\n",
    "# f'Average Roughness: {0.005 - df_5000_91.mean()[6]}'"
   ]
  },
  {
   "cell_type": "code",
   "execution_count": 17,
   "metadata": {},
   "outputs": [
    {
     "data": {
      "text/plain": [
       "'Average Roughness: 0.0001545261004375605'"
      ]
     },
     "execution_count": 17,
     "metadata": {},
     "output_type": "execute_result"
    }
   ],
   "source": [
    "# df_10000_91 = pd.read_csv('expo_10000_9.1.csv')\n",
    "# df_10000_91 = df_10000_91[30:-30]\n",
    "# f'Average Roughness: {0.005 - df_10000_91.mean()[6]}'"
   ]
  },
  {
   "cell_type": "code",
   "execution_count": 2,
   "metadata": {},
   "outputs": [],
   "source": [
    "df_1_91 = pd.read_csv('expo_1_9.1.csv')\n",
    "df_5000_91 = pd.read_csv('expo_5000_9.1.csv')\n",
    "df_100000_91 = pd.read_csv('expo_100000_9.1.csv')"
   ]
  },
  {
   "cell_type": "code",
   "execution_count": 12,
   "metadata": {},
   "outputs": [
    {
     "data": {
      "text/html": [
       "<div>\n",
       "<style scoped>\n",
       "    .dataframe tbody tr th:only-of-type {\n",
       "        vertical-align: middle;\n",
       "    }\n",
       "\n",
       "    .dataframe tbody tr th {\n",
       "        vertical-align: top;\n",
       "    }\n",
       "\n",
       "    .dataframe thead th {\n",
       "        text-align: right;\n",
       "    }\n",
       "</style>\n",
       "<table border=\"1\" class=\"dataframe\">\n",
       "  <thead>\n",
       "    <tr style=\"text-align: right;\">\n",
       "      <th></th>\n",
       "      <th>x1</th>\n",
       "      <th>y1</th>\n",
       "      <th>z1</th>\n",
       "      <th>x2</th>\n",
       "      <th>y2</th>\n",
       "      <th>z2</th>\n",
       "      <th>Output</th>\n",
       "    </tr>\n",
       "  </thead>\n",
       "  <tbody>\n",
       "    <tr>\n",
       "      <th>0</th>\n",
       "      <td>0.0235</td>\n",
       "      <td>0.0100</td>\n",
       "      <td>0.02</td>\n",
       "      <td>0.0235</td>\n",
       "      <td>0.0100</td>\n",
       "      <td>0.025</td>\n",
       "      <td>0.000000</td>\n",
       "    </tr>\n",
       "    <tr>\n",
       "      <th>1</th>\n",
       "      <td>0.0235</td>\n",
       "      <td>0.0101</td>\n",
       "      <td>0.02</td>\n",
       "      <td>0.0235</td>\n",
       "      <td>0.0101</td>\n",
       "      <td>0.025</td>\n",
       "      <td>0.000000</td>\n",
       "    </tr>\n",
       "    <tr>\n",
       "      <th>2</th>\n",
       "      <td>0.0235</td>\n",
       "      <td>0.0102</td>\n",
       "      <td>0.02</td>\n",
       "      <td>0.0235</td>\n",
       "      <td>0.0102</td>\n",
       "      <td>0.025</td>\n",
       "      <td>0.004595</td>\n",
       "    </tr>\n",
       "    <tr>\n",
       "      <th>3</th>\n",
       "      <td>0.0235</td>\n",
       "      <td>0.0103</td>\n",
       "      <td>0.02</td>\n",
       "      <td>0.0235</td>\n",
       "      <td>0.0103</td>\n",
       "      <td>0.025</td>\n",
       "      <td>0.004673</td>\n",
       "    </tr>\n",
       "    <tr>\n",
       "      <th>4</th>\n",
       "      <td>0.0235</td>\n",
       "      <td>0.0104</td>\n",
       "      <td>0.02</td>\n",
       "      <td>0.0235</td>\n",
       "      <td>0.0104</td>\n",
       "      <td>0.025</td>\n",
       "      <td>0.004760</td>\n",
       "    </tr>\n",
       "    <tr>\n",
       "      <th>...</th>\n",
       "      <td>...</td>\n",
       "      <td>...</td>\n",
       "      <td>...</td>\n",
       "      <td>...</td>\n",
       "      <td>...</td>\n",
       "      <td>...</td>\n",
       "      <td>...</td>\n",
       "    </tr>\n",
       "    <tr>\n",
       "      <th>598</th>\n",
       "      <td>0.0235</td>\n",
       "      <td>0.0296</td>\n",
       "      <td>0.05</td>\n",
       "      <td>0.0235</td>\n",
       "      <td>0.0296</td>\n",
       "      <td>0.055</td>\n",
       "      <td>0.004640</td>\n",
       "    </tr>\n",
       "    <tr>\n",
       "      <th>599</th>\n",
       "      <td>0.0235</td>\n",
       "      <td>0.0297</td>\n",
       "      <td>0.05</td>\n",
       "      <td>0.0235</td>\n",
       "      <td>0.0297</td>\n",
       "      <td>0.055</td>\n",
       "      <td>0.004642</td>\n",
       "    </tr>\n",
       "    <tr>\n",
       "      <th>600</th>\n",
       "      <td>0.0235</td>\n",
       "      <td>0.0298</td>\n",
       "      <td>0.05</td>\n",
       "      <td>0.0235</td>\n",
       "      <td>0.0298</td>\n",
       "      <td>0.055</td>\n",
       "      <td>0.004600</td>\n",
       "    </tr>\n",
       "    <tr>\n",
       "      <th>601</th>\n",
       "      <td>0.0235</td>\n",
       "      <td>0.0299</td>\n",
       "      <td>0.05</td>\n",
       "      <td>0.0235</td>\n",
       "      <td>0.0299</td>\n",
       "      <td>0.055</td>\n",
       "      <td>0.000000</td>\n",
       "    </tr>\n",
       "    <tr>\n",
       "      <th>602</th>\n",
       "      <td>0.0235</td>\n",
       "      <td>0.0300</td>\n",
       "      <td>0.05</td>\n",
       "      <td>0.0235</td>\n",
       "      <td>0.0300</td>\n",
       "      <td>0.055</td>\n",
       "      <td>0.000000</td>\n",
       "    </tr>\n",
       "  </tbody>\n",
       "</table>\n",
       "<p>603 rows × 7 columns</p>\n",
       "</div>"
      ],
      "text/plain": [
       "         x1      y1    z1      x2      y2     z2    Output\n",
       "0    0.0235  0.0100  0.02  0.0235  0.0100  0.025  0.000000\n",
       "1    0.0235  0.0101  0.02  0.0235  0.0101  0.025  0.000000\n",
       "2    0.0235  0.0102  0.02  0.0235  0.0102  0.025  0.004595\n",
       "3    0.0235  0.0103  0.02  0.0235  0.0103  0.025  0.004673\n",
       "4    0.0235  0.0104  0.02  0.0235  0.0104  0.025  0.004760\n",
       "..      ...     ...   ...     ...     ...    ...       ...\n",
       "598  0.0235  0.0296  0.05  0.0235  0.0296  0.055  0.004640\n",
       "599  0.0235  0.0297  0.05  0.0235  0.0297  0.055  0.004642\n",
       "600  0.0235  0.0298  0.05  0.0235  0.0298  0.055  0.004600\n",
       "601  0.0235  0.0299  0.05  0.0235  0.0299  0.055  0.000000\n",
       "602  0.0235  0.0300  0.05  0.0235  0.0300  0.055  0.000000\n",
       "\n",
       "[603 rows x 7 columns]"
      ]
     },
     "execution_count": 12,
     "metadata": {},
     "output_type": "execute_result"
    }
   ],
   "source": [
    "df_1_91"
   ]
  },
  {
   "cell_type": "code",
   "execution_count": 7,
   "metadata": {},
   "outputs": [],
   "source": [
    "df_1_20_25 = df_1_91[:201]\n",
    "df_1_35_40 = df_1_91[201:402]\n",
    "df_1_50_55 = df_1_91[402:]\n",
    "\n",
    "df_5000_20_25 = df_5000_91[:201]\n",
    "df_5000_35_40 = df_5000_91[201:402]\n",
    "df_5000_50_55 = df_5000_91[402:]\n",
    "\n",
    "df_100000_20_25 = df_100000_91[:201]\n",
    "df_100000_35_40 = df_100000_91[201:402]\n",
    "df_100000_50_55 = df_100000_91[402:]"
   ]
  },
  {
   "cell_type": "code",
   "execution_count": 11,
   "metadata": {},
   "outputs": [
    {
     "name": "stdout",
     "output_type": "stream",
     "text": [
      "Average Roughness at 1 Exponent between 20 to 25 nm: 0.00026708531187436685\n",
      "Average Roughness at 1 Exponent between 35 to 40 nm: 0.00027060443370169936\n",
      "Average Roughness at 1 Exponent between 50 to 55 nm: 0.00027550928972174243\n",
      "\n",
      "\n",
      "Average Roughness at 5000 Exponent between 20 to 25 nm: 0.00032732555443364467\n",
      "Average Roughness at 5000 Exponent between 35 to 40 nm: 0.00023076512578419032\n",
      "Average Roughness at 5000 Exponent between 50 to 55 nm: 0.00022808548063583955\n",
      "\n",
      "\n",
      "Average Roughness at 100000 Exponent between 20 to 25 nm: 0.00033043192832202424\n",
      "Average Roughness at 100000 Exponent between 35 to 40 nm: 0.00023292696678893065\n",
      "Average Roughness at 100000 Exponent between 50 to 55 nm: 0.00022545305178055947\n",
      "\n"
     ]
    }
   ],
   "source": [
    "print(f'Average Roughness at 1 Exponent between 20 to 25 nm: {0.005 - df_1_20_25.mean()[6]}\\n'\n",
    "f'Average Roughness at 1 Exponent between 35 to 40 nm: {0.005 - df_1_35_40.mean()[6]}\\n'\n",
    "f'Average Roughness at 1 Exponent between 50 to 55 nm: {0.005 - df_1_50_55.mean()[6]}\\n\\n\\n'\n",
    "\n",
    "f'Average Roughness at 5000 Exponent between 20 to 25 nm: {0.005 - df_5000_20_25.mean()[6]}\\n'\n",
    "f'Average Roughness at 5000 Exponent between 35 to 40 nm: {0.005 - df_5000_35_40.mean()[6]}\\n'\n",
    "f'Average Roughness at 5000 Exponent between 50 to 55 nm: {0.005 - df_5000_50_55.mean()[6]}\\n\\n\\n'\n",
    "\n",
    "f'Average Roughness at 100000 Exponent between 20 to 25 nm: {0.005 - df_100000_20_25.mean()[6]}\\n'\n",
    "f'Average Roughness at 100000 Exponent between 35 to 40 nm: {0.005 - df_100000_35_40.mean()[6]}\\n'\n",
    "f'Average Roughness at 100000 Exponent between 50 to 55 nm: {0.005 - df_100000_50_55.mean()[6]}\\n')"
   ]
  },
  {
   "cell_type": "code",
   "execution_count": 13,
   "metadata": {},
   "outputs": [
    {
     "data": {
      "text/plain": [
       "0.0046726744455663554"
      ]
     },
     "execution_count": 13,
     "metadata": {},
     "output_type": "execute_result"
    }
   ],
   "source": [
    "df_5000_20_25.mean()[6]"
   ]
  },
  {
   "cell_type": "code",
   "execution_count": 14,
   "metadata": {},
   "outputs": [
    {
     "data": {
      "text/plain": [
       "0.004774546948219441"
      ]
     },
     "execution_count": 14,
     "metadata": {},
     "output_type": "execute_result"
    }
   ],
   "source": [
    "df_100000_50_55.mean()[6]"
   ]
  },
  {
   "cell_type": "code",
   "execution_count": null,
   "metadata": {},
   "outputs": [],
   "source": []
  }
 ],
 "metadata": {
  "kernelspec": {
   "display_name": "Python 3",
   "language": "python",
   "name": "python3"
  },
  "language_info": {
   "codemirror_mode": {
    "name": "ipython",
    "version": 3
   },
   "file_extension": ".py",
   "mimetype": "text/x-python",
   "name": "python",
   "nbconvert_exporter": "python",
   "pygments_lexer": "ipython3",
   "version": "3.11.3"
  }
 },
 "nbformat": 4,
 "nbformat_minor": 2
}
