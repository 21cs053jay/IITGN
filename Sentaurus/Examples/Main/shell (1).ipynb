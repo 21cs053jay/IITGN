{
 "cells": [
  {
   "cell_type": "code",
   "execution_count": 29,
   "metadata": {},
   "outputs": [],
   "source": [
    "import pandas as pd\n",
    "import numpy as np\n",
    "import random"
   ]
  },
  {
   "cell_type": "code",
   "execution_count": 30,
   "metadata": {},
   "outputs": [],
   "source": [
    "ArExponent_min, ArExponent_max = 1, 100\n",
    "FExponent_min, FExponent_max = 1,100\n",
    "\n",
    "Arflux1_min, Arflux1_max = 0.0001, 0.01\n",
    "Arflux2_min, Arflux2_max = 0.0001, 0.01\n",
    "Arflux3_min, Arflux3_max = 0.0001, 0.01\n",
    "Arflux4_min, Arflux4_max = 0.0001, 0.01\n",
    "Arflux5_min, Arflux5_max = 0.0001, 0.01\n",
    "Arflux6_min, Arflux6_max = 0.0001, 0.01\n",
    "\n",
    "Fflux1_min, Fflux1_max = 0.0001, 0.01\n",
    "Fflux2_min, Fflux2_max = 0.0001, 0.01\n",
    "Fflux3_min, Fflux3_max = 0.0001, 0.01\n",
    "Fflux4_min, Fflux4_max = 0.0001, 0.01\n",
    "Fflux5_min, Fflux5_max = 0.0001, 0.01\n",
    "Fflux6_min, Fflux6_max = 0.0001, 0.01\n",
    "\n",
    "yield_at_zero1_min, yield_at_zero1_max = 1,5\n",
    "yield_at_zero2_min, yield_at_zero2_max = 1,5\n",
    "yield_at_zero3_min, yield_at_zero3_max = 1,5\n",
    "\n",
    "theta_max1_min, theta_max1_max = 30,90\n",
    "theta_max2_min, theta_max1_max = 30,90\n",
    "theta_max3_min, theta_max1_max = 30,90\n",
    "\n",
    "mizk_min, mizk_max = 0.001,0.005\n",
    "\n",
    "p1_min, p1_max = 0, 0.002\n",
    "p2_min, p2_max = 0.8, 1\n",
    "p3_min, p3_max = 0, 0.002\n",
    "p4_min, p4_max = 0.5,0.9\n",
    "p5_min, p5_max = 0, 0.0002\n"
   ]
  },
  {
   "cell_type": "code",
   "execution_count": 31,
   "metadata": {},
   "outputs": [],
   "source": [
    "features = ['Arflux1','Arflux2','Arflux3','Arflux4','Arflux5','Arflux6',\n",
    "            'Fflux1','Fflux2','Fflux3','Fflux4','Fflux5','Fflux6',\n",
    "            'ArExponent','FrExponent',\n",
    "            'yield_at_zero1','yield_at_zero2','yield_at_zero3',\n",
    "            'yield_max1','yield_max2','yield_max3',\n",
    "            'theta_max1','theta_max2','theta_max3','mizk',\n",
    "            'p1','p2','p3','p4','p5']"
   ]
  },
  {
   "cell_type": "code",
   "execution_count": 32,
   "metadata": {},
   "outputs": [],
   "source": [
    "feature_range_values = [[0.0001,0.01],[0.0001,0.01],[0.0001,0.01],[0.0001,0.01],[0.0001,0.01],[0.0001,0.01],\n",
    "                        [0.0001,0.01],[0.0001,0.01],[0.0001,0.01],[0.0001,0.01],[0.0001,0.01],[0.0001,0.01],\n",
    "                        [1,100],[1,100],\n",
    "                        [1,5],[1,5],[1,5],\n",
    "                        [1,10],[1,10],[1,10],\n",
    "                        [30,90],[30,90],[30,90],[0.001,0.005],\n",
    "                        [0, 0.002],[0.8, 1],[0, 0.002],[0.5,0.9],[0, 0.0002]]"
   ]
  },
  {
   "cell_type": "code",
   "execution_count": 33,
   "metadata": {},
   "outputs": [],
   "source": [
    "features_ranges = {}\n",
    "for i in range(len(features)):\n",
    "    features_ranges[features[i]] = feature_range_values[i]"
   ]
  },
  {
   "cell_type": "code",
   "execution_count": 34,
   "metadata": {},
   "outputs": [
    {
     "data": {
      "text/plain": [
       "{'Arflux1': [0.0001, 0.01],\n",
       " 'Arflux2': [0.0001, 0.01],\n",
       " 'Arflux3': [0.0001, 0.01],\n",
       " 'Arflux4': [0.0001, 0.01],\n",
       " 'Arflux5': [0.0001, 0.01],\n",
       " 'Arflux6': [0.0001, 0.01],\n",
       " 'Fflux1': [0.0001, 0.01],\n",
       " 'Fflux2': [0.0001, 0.01],\n",
       " 'Fflux3': [0.0001, 0.01],\n",
       " 'Fflux4': [0.0001, 0.01],\n",
       " 'Fflux5': [0.0001, 0.01],\n",
       " 'Fflux6': [0.0001, 0.01],\n",
       " 'ArExponent': [1, 100],\n",
       " 'FrExponent': [1, 100],\n",
       " 'yield_at_zero1': [1, 5],\n",
       " 'yield_at_zero2': [1, 5],\n",
       " 'yield_at_zero3': [1, 5],\n",
       " 'yield_max1': [1, 10],\n",
       " 'yield_max2': [1, 10],\n",
       " 'yield_max3': [1, 10],\n",
       " 'theta_max1': [30, 90],\n",
       " 'theta_max2': [30, 90],\n",
       " 'theta_max3': [30, 90],\n",
       " 'mizk': [0.001, 0.005],\n",
       " 'p1': [0, 0.002],\n",
       " 'p2': [0.8, 1],\n",
       " 'p3': [0, 0.002],\n",
       " 'p4': [0.5, 0.9],\n",
       " 'p5': [0, 0.0002]}"
      ]
     },
     "execution_count": 34,
     "metadata": {},
     "output_type": "execute_result"
    }
   ],
   "source": [
    "features_ranges"
   ]
  },
  {
   "cell_type": "code",
   "execution_count": 35,
   "metadata": {},
   "outputs": [],
   "source": [
    "num_samples = 10\n",
    "number_of_features = len(features)"
   ]
  },
  {
   "cell_type": "code",
   "execution_count": 36,
   "metadata": {},
   "outputs": [
    {
     "data": {
      "text/plain": [
       "29"
      ]
     },
     "execution_count": 36,
     "metadata": {},
     "output_type": "execute_result"
    }
   ],
   "source": [
    "number_of_features"
   ]
  },
  {
   "cell_type": "code",
   "execution_count": 66,
   "metadata": {},
   "outputs": [],
   "source": [
    "X = np.empty((num_samples,number_of_features))\n",
    "for i in range(num_samples):\n",
    "    for j in range(number_of_features):\n",
    "        X[i][j] = round(random.uniform(feature_range_values[j][0], feature_range_values[j][1]),4)"
   ]
  },
  {
   "cell_type": "code",
   "execution_count": 68,
   "metadata": {},
   "outputs": [],
   "source": [
    "for i in range(len(X)):\n",
    "    if (X[i][17] < X[i][14]):\n",
    "        while (X[i][17] < X[i][14]):\n",
    "            X[i][17] = round(random.uniform(feature_range_values[17][0], feature_range_values[17][1]),4)\n",
    "    if (X[i][18] < X[i][15]):\n",
    "        while (X[i][18] < X[i][15]):\n",
    "            X[i][18] = round(random.uniform(feature_range_values[18][0], feature_range_values[18][1]),4)\n",
    "    if (X[i][19] < X[i][16]):\n",
    "        while (X[i][19] < X[i][16]):\n",
    "            X[i][19] = round(random.uniform(feature_range_values[19][0], feature_range_values[19][1]),4)"
   ]
  },
  {
   "cell_type": "code",
   "execution_count": 69,
   "metadata": {},
   "outputs": [],
   "source": [
    "X_dataframe = pd.DataFrame(X,columns = features)"
   ]
  },
  {
   "cell_type": "code",
   "execution_count": 70,
   "metadata": {},
   "outputs": [
    {
     "name": "stdout",
     "output_type": "stream",
     "text": [
      "0\n",
      "0\n",
      "0\n"
     ]
    }
   ],
   "source": [
    "print((X_dataframe['yield_max1'] < X_dataframe['yield_at_zero1']).sum())\n",
    "print((X_dataframe['yield_max2'] < X_dataframe['yield_at_zero2']).sum())\n",
    "print((X_dataframe['yield_max3'] < X_dataframe['yield_at_zero3']).sum())"
   ]
  },
  {
   "cell_type": "code",
   "execution_count": 40,
   "metadata": {},
   "outputs": [
    {
     "data": {
      "text/html": [
       "<div>\n",
       "<style scoped>\n",
       "    .dataframe tbody tr th:only-of-type {\n",
       "        vertical-align: middle;\n",
       "    }\n",
       "\n",
       "    .dataframe tbody tr th {\n",
       "        vertical-align: top;\n",
       "    }\n",
       "\n",
       "    .dataframe thead th {\n",
       "        text-align: right;\n",
       "    }\n",
       "</style>\n",
       "<table border=\"1\" class=\"dataframe\">\n",
       "  <thead>\n",
       "    <tr style=\"text-align: right;\">\n",
       "      <th></th>\n",
       "      <th>Arflux1</th>\n",
       "      <th>Arflux2</th>\n",
       "      <th>Arflux3</th>\n",
       "      <th>Arflux4</th>\n",
       "      <th>Arflux5</th>\n",
       "      <th>Arflux6</th>\n",
       "      <th>Fflux1</th>\n",
       "      <th>Fflux2</th>\n",
       "      <th>Fflux3</th>\n",
       "      <th>Fflux4</th>\n",
       "      <th>...</th>\n",
       "      <th>yield_max3</th>\n",
       "      <th>theta_max1</th>\n",
       "      <th>theta_max2</th>\n",
       "      <th>theta_max3</th>\n",
       "      <th>mizk</th>\n",
       "      <th>p1</th>\n",
       "      <th>p2</th>\n",
       "      <th>p3</th>\n",
       "      <th>p4</th>\n",
       "      <th>p5</th>\n",
       "    </tr>\n",
       "  </thead>\n",
       "  <tbody>\n",
       "    <tr>\n",
       "      <th>0</th>\n",
       "      <td>0.0034</td>\n",
       "      <td>0.0052</td>\n",
       "      <td>0.0032</td>\n",
       "      <td>0.0035</td>\n",
       "      <td>0.0094</td>\n",
       "      <td>0.0063</td>\n",
       "      <td>0.0014</td>\n",
       "      <td>0.0044</td>\n",
       "      <td>0.0021</td>\n",
       "      <td>0.0011</td>\n",
       "      <td>...</td>\n",
       "      <td>9.0603</td>\n",
       "      <td>64.4209</td>\n",
       "      <td>58.9818</td>\n",
       "      <td>69.8078</td>\n",
       "      <td>0.0036</td>\n",
       "      <td>0.0019</td>\n",
       "      <td>0.8331</td>\n",
       "      <td>0.0020</td>\n",
       "      <td>0.8784</td>\n",
       "      <td>0.0000</td>\n",
       "    </tr>\n",
       "    <tr>\n",
       "      <th>1</th>\n",
       "      <td>0.0039</td>\n",
       "      <td>0.0003</td>\n",
       "      <td>0.0081</td>\n",
       "      <td>0.0046</td>\n",
       "      <td>0.0063</td>\n",
       "      <td>0.0076</td>\n",
       "      <td>0.0056</td>\n",
       "      <td>0.0032</td>\n",
       "      <td>0.0017</td>\n",
       "      <td>0.0005</td>\n",
       "      <td>...</td>\n",
       "      <td>3.9040</td>\n",
       "      <td>43.2828</td>\n",
       "      <td>46.6794</td>\n",
       "      <td>48.6068</td>\n",
       "      <td>0.0033</td>\n",
       "      <td>0.0001</td>\n",
       "      <td>0.9120</td>\n",
       "      <td>0.0001</td>\n",
       "      <td>0.5606</td>\n",
       "      <td>0.0000</td>\n",
       "    </tr>\n",
       "    <tr>\n",
       "      <th>2</th>\n",
       "      <td>0.0045</td>\n",
       "      <td>0.0007</td>\n",
       "      <td>0.0019</td>\n",
       "      <td>0.0022</td>\n",
       "      <td>0.0058</td>\n",
       "      <td>0.0098</td>\n",
       "      <td>0.0002</td>\n",
       "      <td>0.0077</td>\n",
       "      <td>0.0078</td>\n",
       "      <td>0.0044</td>\n",
       "      <td>...</td>\n",
       "      <td>7.5835</td>\n",
       "      <td>60.1918</td>\n",
       "      <td>67.6838</td>\n",
       "      <td>57.6291</td>\n",
       "      <td>0.0035</td>\n",
       "      <td>0.0016</td>\n",
       "      <td>0.8476</td>\n",
       "      <td>0.0008</td>\n",
       "      <td>0.6639</td>\n",
       "      <td>0.0001</td>\n",
       "    </tr>\n",
       "    <tr>\n",
       "      <th>3</th>\n",
       "      <td>0.0068</td>\n",
       "      <td>0.0032</td>\n",
       "      <td>0.0089</td>\n",
       "      <td>0.0055</td>\n",
       "      <td>0.0097</td>\n",
       "      <td>0.0012</td>\n",
       "      <td>0.0020</td>\n",
       "      <td>0.0084</td>\n",
       "      <td>0.0030</td>\n",
       "      <td>0.0058</td>\n",
       "      <td>...</td>\n",
       "      <td>4.2058</td>\n",
       "      <td>36.6200</td>\n",
       "      <td>61.5120</td>\n",
       "      <td>78.6239</td>\n",
       "      <td>0.0037</td>\n",
       "      <td>0.0004</td>\n",
       "      <td>0.9544</td>\n",
       "      <td>0.0014</td>\n",
       "      <td>0.6818</td>\n",
       "      <td>0.0000</td>\n",
       "    </tr>\n",
       "    <tr>\n",
       "      <th>4</th>\n",
       "      <td>0.0054</td>\n",
       "      <td>0.0059</td>\n",
       "      <td>0.0029</td>\n",
       "      <td>0.0094</td>\n",
       "      <td>0.0082</td>\n",
       "      <td>0.0085</td>\n",
       "      <td>0.0049</td>\n",
       "      <td>0.0075</td>\n",
       "      <td>0.0077</td>\n",
       "      <td>0.0003</td>\n",
       "      <td>...</td>\n",
       "      <td>5.3090</td>\n",
       "      <td>44.9846</td>\n",
       "      <td>89.6054</td>\n",
       "      <td>40.1304</td>\n",
       "      <td>0.0038</td>\n",
       "      <td>0.0011</td>\n",
       "      <td>0.8665</td>\n",
       "      <td>0.0009</td>\n",
       "      <td>0.6456</td>\n",
       "      <td>0.0000</td>\n",
       "    </tr>\n",
       "    <tr>\n",
       "      <th>5</th>\n",
       "      <td>0.0012</td>\n",
       "      <td>0.0006</td>\n",
       "      <td>0.0030</td>\n",
       "      <td>0.0074</td>\n",
       "      <td>0.0034</td>\n",
       "      <td>0.0059</td>\n",
       "      <td>0.0047</td>\n",
       "      <td>0.0018</td>\n",
       "      <td>0.0061</td>\n",
       "      <td>0.0057</td>\n",
       "      <td>...</td>\n",
       "      <td>2.7727</td>\n",
       "      <td>39.6102</td>\n",
       "      <td>41.4353</td>\n",
       "      <td>49.0284</td>\n",
       "      <td>0.0034</td>\n",
       "      <td>0.0006</td>\n",
       "      <td>0.9638</td>\n",
       "      <td>0.0014</td>\n",
       "      <td>0.6898</td>\n",
       "      <td>0.0000</td>\n",
       "    </tr>\n",
       "    <tr>\n",
       "      <th>6</th>\n",
       "      <td>0.0056</td>\n",
       "      <td>0.0007</td>\n",
       "      <td>0.0028</td>\n",
       "      <td>0.0052</td>\n",
       "      <td>0.0099</td>\n",
       "      <td>0.0082</td>\n",
       "      <td>0.0042</td>\n",
       "      <td>0.0041</td>\n",
       "      <td>0.0075</td>\n",
       "      <td>0.0032</td>\n",
       "      <td>...</td>\n",
       "      <td>7.2795</td>\n",
       "      <td>87.8920</td>\n",
       "      <td>53.6443</td>\n",
       "      <td>77.4677</td>\n",
       "      <td>0.0020</td>\n",
       "      <td>0.0019</td>\n",
       "      <td>0.8843</td>\n",
       "      <td>0.0014</td>\n",
       "      <td>0.7744</td>\n",
       "      <td>0.0001</td>\n",
       "    </tr>\n",
       "    <tr>\n",
       "      <th>7</th>\n",
       "      <td>0.0015</td>\n",
       "      <td>0.0074</td>\n",
       "      <td>0.0080</td>\n",
       "      <td>0.0073</td>\n",
       "      <td>0.0066</td>\n",
       "      <td>0.0008</td>\n",
       "      <td>0.0087</td>\n",
       "      <td>0.0053</td>\n",
       "      <td>0.0004</td>\n",
       "      <td>0.0096</td>\n",
       "      <td>...</td>\n",
       "      <td>7.1575</td>\n",
       "      <td>41.6583</td>\n",
       "      <td>39.0759</td>\n",
       "      <td>46.7064</td>\n",
       "      <td>0.0046</td>\n",
       "      <td>0.0012</td>\n",
       "      <td>0.9886</td>\n",
       "      <td>0.0003</td>\n",
       "      <td>0.8204</td>\n",
       "      <td>0.0000</td>\n",
       "    </tr>\n",
       "    <tr>\n",
       "      <th>8</th>\n",
       "      <td>0.0067</td>\n",
       "      <td>0.0027</td>\n",
       "      <td>0.0054</td>\n",
       "      <td>0.0098</td>\n",
       "      <td>0.0057</td>\n",
       "      <td>0.0035</td>\n",
       "      <td>0.0014</td>\n",
       "      <td>0.0057</td>\n",
       "      <td>0.0065</td>\n",
       "      <td>0.0013</td>\n",
       "      <td>...</td>\n",
       "      <td>5.2790</td>\n",
       "      <td>47.7283</td>\n",
       "      <td>44.0217</td>\n",
       "      <td>41.2524</td>\n",
       "      <td>0.0017</td>\n",
       "      <td>0.0016</td>\n",
       "      <td>0.8753</td>\n",
       "      <td>0.0000</td>\n",
       "      <td>0.8740</td>\n",
       "      <td>0.0000</td>\n",
       "    </tr>\n",
       "    <tr>\n",
       "      <th>9</th>\n",
       "      <td>0.0002</td>\n",
       "      <td>0.0026</td>\n",
       "      <td>0.0018</td>\n",
       "      <td>0.0028</td>\n",
       "      <td>0.0014</td>\n",
       "      <td>0.0001</td>\n",
       "      <td>0.0099</td>\n",
       "      <td>0.0009</td>\n",
       "      <td>0.0089</td>\n",
       "      <td>0.0061</td>\n",
       "      <td>...</td>\n",
       "      <td>5.3274</td>\n",
       "      <td>31.0207</td>\n",
       "      <td>51.7802</td>\n",
       "      <td>72.4091</td>\n",
       "      <td>0.0031</td>\n",
       "      <td>0.0014</td>\n",
       "      <td>0.8189</td>\n",
       "      <td>0.0000</td>\n",
       "      <td>0.5418</td>\n",
       "      <td>0.0002</td>\n",
       "    </tr>\n",
       "  </tbody>\n",
       "</table>\n",
       "<p>10 rows × 29 columns</p>\n",
       "</div>"
      ],
      "text/plain": [
       "   Arflux1  Arflux2  Arflux3  Arflux4  Arflux5  Arflux6  Fflux1  Fflux2   \n",
       "0   0.0034   0.0052   0.0032   0.0035   0.0094   0.0063  0.0014  0.0044  \\\n",
       "1   0.0039   0.0003   0.0081   0.0046   0.0063   0.0076  0.0056  0.0032   \n",
       "2   0.0045   0.0007   0.0019   0.0022   0.0058   0.0098  0.0002  0.0077   \n",
       "3   0.0068   0.0032   0.0089   0.0055   0.0097   0.0012  0.0020  0.0084   \n",
       "4   0.0054   0.0059   0.0029   0.0094   0.0082   0.0085  0.0049  0.0075   \n",
       "5   0.0012   0.0006   0.0030   0.0074   0.0034   0.0059  0.0047  0.0018   \n",
       "6   0.0056   0.0007   0.0028   0.0052   0.0099   0.0082  0.0042  0.0041   \n",
       "7   0.0015   0.0074   0.0080   0.0073   0.0066   0.0008  0.0087  0.0053   \n",
       "8   0.0067   0.0027   0.0054   0.0098   0.0057   0.0035  0.0014  0.0057   \n",
       "9   0.0002   0.0026   0.0018   0.0028   0.0014   0.0001  0.0099  0.0009   \n",
       "\n",
       "   Fflux3  Fflux4  ...  yield_max3  theta_max1  theta_max2  theta_max3   \n",
       "0  0.0021  0.0011  ...      9.0603     64.4209     58.9818     69.8078  \\\n",
       "1  0.0017  0.0005  ...      3.9040     43.2828     46.6794     48.6068   \n",
       "2  0.0078  0.0044  ...      7.5835     60.1918     67.6838     57.6291   \n",
       "3  0.0030  0.0058  ...      4.2058     36.6200     61.5120     78.6239   \n",
       "4  0.0077  0.0003  ...      5.3090     44.9846     89.6054     40.1304   \n",
       "5  0.0061  0.0057  ...      2.7727     39.6102     41.4353     49.0284   \n",
       "6  0.0075  0.0032  ...      7.2795     87.8920     53.6443     77.4677   \n",
       "7  0.0004  0.0096  ...      7.1575     41.6583     39.0759     46.7064   \n",
       "8  0.0065  0.0013  ...      5.2790     47.7283     44.0217     41.2524   \n",
       "9  0.0089  0.0061  ...      5.3274     31.0207     51.7802     72.4091   \n",
       "\n",
       "     mizk      p1      p2      p3      p4      p5  \n",
       "0  0.0036  0.0019  0.8331  0.0020  0.8784  0.0000  \n",
       "1  0.0033  0.0001  0.9120  0.0001  0.5606  0.0000  \n",
       "2  0.0035  0.0016  0.8476  0.0008  0.6639  0.0001  \n",
       "3  0.0037  0.0004  0.9544  0.0014  0.6818  0.0000  \n",
       "4  0.0038  0.0011  0.8665  0.0009  0.6456  0.0000  \n",
       "5  0.0034  0.0006  0.9638  0.0014  0.6898  0.0000  \n",
       "6  0.0020  0.0019  0.8843  0.0014  0.7744  0.0001  \n",
       "7  0.0046  0.0012  0.9886  0.0003  0.8204  0.0000  \n",
       "8  0.0017  0.0016  0.8753  0.0000  0.8740  0.0000  \n",
       "9  0.0031  0.0014  0.8189  0.0000  0.5418  0.0002  \n",
       "\n",
       "[10 rows x 29 columns]"
      ]
     },
     "execution_count": 40,
     "metadata": {},
     "output_type": "execute_result"
    }
   ],
   "source": [
    "X_dataframe"
   ]
  },
  {
   "cell_type": "code",
   "execution_count": 16,
   "metadata": {},
   "outputs": [
    {
     "data": {
      "text/plain": [
       "0"
      ]
     },
     "execution_count": 16,
     "metadata": {},
     "output_type": "execute_result"
    }
   ],
   "source": []
  },
  {
   "cell_type": "code",
   "execution_count": null,
   "metadata": {},
   "outputs": [],
   "source": [
    "sed = \"sed  -e 's/Arflux1/'$Arflux1'/g' -e 's/Arflux2/'$Arflux2'/g' -e 's/Arflux3/'$Arflux3'/g' -e 's/Arflux4/'$Arflux4'/g' -e 's/Arflux5/'$Arflux5'/g' -e 's/Arflux6/'$Arflux6'/g' -e 's/Fflux1/'$Fflux1'/g' -e 's/Fflux2/'$Fflux2'/g' -e 's/Fflux3/'$Fflux3'/g' -e 's/Fflux4/'$Fflux4'/g' -e 's/Fflux5/'$Fflux5'/g' -e 's/Fflux6/'$Fflux6'/g' -e 's/ArExponent/'$ArExponent'/g' -e 's/FrExponent/'$FrExponent'/g' -e 's/yield_at_zero1/'$yield_at_zero1'/g' -e 's/yield_max1/'$yield_max1'/g' -e 's/theta_max1/'$theta_max1'/g' -e 's/yield_at_zero2/'$yield_at_zero2'/g' -e 's/yield_max2/'$yield_max2'/g' -e 's/theta_max2/'$theta_max2'/g' -e 's/yield_at_zero3/'$yield_at_zero3'/g' -e 's/yield_max3/'$yield_max3'/g' -e 's/theta_max3/'$theta_max3'/g' -e 's/mizk/'$mizk'/g' -e 's/p1/'$p1'/g' -e 's/p2/'$p2'/g' -e 's/p3/'$p3'/g' -e 's/p4/'$p4'/g' -e 's/p5/'$p5'/g' -e 's/etch_time/'$etch_time'/g' etching.cmd > temp_etching.cmd\\n\"\n",
    "sed2 = \"sed  -e 's/Arflux1/'$Arflux1'/g' -e 's/Arflux2/'$Arflux2'/g' -e 's/Arflux3/'$Arflux3'/g' -e 's/Arflux4/'$Arflux4'/g' -e 's/Arflux5/'$Arflux5'/g' -e 's/Arflux6/'$Arflux6'/g' -e 's/Fflux1/'$Fflux1'/g' -e 's/Fflux2/'$Fflux2'/g' -e 's/Fflux3/'$Fflux3'/g' -e 's/Fflux4/'$Fflux4'/g' -e 's/Fflux5/'$Fflux5'/g' -e 's/Fflux6/'$Fflux6'/g' -e 's/ArExponent/'$ArExponent'/g' -e 's/FrExponent/'$FrExponent'/g' -e 's/yield_at_zero1/'$yield_at_zero1'/g' -e 's/yield_max1/'$yield_max1'/g' -e 's/theta_max1/'$theta_max1'/g' -e 's/yield_at_zero2/'$yield_at_zero2'/g' -e 's/yield_max2/'$yield_max2'/g' -e 's/theta_max2/'$theta_max2'/g' -e 's/yield_at_zero3/'$yield_at_zero3'/g' -e 's/yield_max3/'$yield_max3'/g' -e 's/theta_max3/'$theta_max3'/g' -e 's/mizk/'$mizk'/g' -e 's/p1/'$p1'/g' -e 's/p2/'$p2'/g' -e 's/p3/'$p3'/g' -e 's/p4/'$p4'/g' -e 's/p5/'$p5'/g' -e 's/etch_time/'$etch_time'/g' etching_data_extraction.cmd > temp_etching_data_extraction.cmd\\n\""
   ]
  },
  {
   "cell_type": "code",
   "execution_count": null,
   "metadata": {},
   "outputs": [],
   "source": [
    "file_name = ''\n",
    "for feature in features:\n",
    "    file_name+=f\"_{feature}\""
   ]
  },
  {
   "cell_type": "code",
   "execution_count": null,
   "metadata": {},
   "outputs": [
    {
     "data": {
      "text/plain": [
       "'_Arflux1_Arflux2_Arflux3_Arflux4_Arflux5_Arflux6_Fflux1_Fflux2_Fflux3_Fflux4_Fflux5_Fflux6_ArExponent_FrExponent_yield_at_zero1_yield_at_zero2_yield_at_zero3_yield_max1_yield_max2_yield_max3_theta_max1_theta_max2_theta_max3_mizk_p1_p2_p3_p4_p5'"
      ]
     },
     "execution_count": 16,
     "metadata": {},
     "output_type": "execute_result"
    }
   ],
   "source": [
    "file_name"
   ]
  },
  {
   "cell_type": "code",
   "execution_count": null,
   "metadata": {},
   "outputs": [],
   "source": [
    "run_files = 'stopo temp_etching.cmd\\nstopo temp_etching_data_extraction.cmd\\n'\n"
   ]
  },
  {
   "cell_type": "code",
   "execution_count": null,
   "metadata": {},
   "outputs": [],
   "source": [
    "text  = ''\n",
    "\n",
    "for i in range(len(X)):\n",
    "    \n",
    "    params = ''\n",
    "    dir_name = ''\n",
    "    for j in range(len(X[0])):\n",
    "        params += f'{features[j]}={X[i][j]}\\n'\n",
    "        dir_name += f'_{X[i][j]}'\n",
    "    text+= f'mkdir -p csvfiles/file{dir_name}\\n'\n",
    "    for k in range(6):\n",
    "        text+= 'export '\n",
    "        text += params\n",
    "        text += f\"etch_time={2*(k+1)}\\n\"\n",
    "        text += sed\n",
    "        text += sed2\n",
    "        text += run_files\n",
    "       "
   ]
  },
  {
   "cell_type": "code",
   "execution_count": null,
   "metadata": {},
   "outputs": [],
   "source": [
    "with open('exec.sh','w') as file:\n",
    "    file.write(text)"
   ]
  }
 ],
 "metadata": {
  "kernelspec": {
   "display_name": "Python 3",
   "language": "python",
   "name": "python3"
  },
  "language_info": {
   "codemirror_mode": {
    "name": "ipython",
    "version": 3
   },
   "file_extension": ".py",
   "mimetype": "text/x-python",
   "name": "python",
   "nbconvert_exporter": "python",
   "pygments_lexer": "ipython3",
   "version": "3.11.3"
  },
  "orig_nbformat": 4,
  "vscode": {
   "interpreter": {
    "hash": "aee8b7b246df8f9039afb4144a1f6fd8d2ca17a180786b69acc140d282b71a49"
   }
  }
 },
 "nbformat": 4,
 "nbformat_minor": 2
}
