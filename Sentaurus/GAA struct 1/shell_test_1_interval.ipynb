{
 "cells": [
  {
   "cell_type": "code",
   "execution_count": 1,
   "metadata": {},
   "outputs": [],
   "source": [
    "import pandas as pd\n",
    "import numpy as np\n",
    "import random"
   ]
  },
  {
   "cell_type": "code",
   "execution_count": 2,
   "metadata": {},
   "outputs": [],
   "source": [
    "# ArExponent_min, ArExponent_max = 1, 100\n",
    "# FExponent_min, FExponent_max = 1,100\n",
    "\n",
    "HCl_flux_min, HCl_flux_max = 0.00072, 0.00372\n",
    "\n",
    "\n",
    "# yield_at_zero1_min, yield_at_zero1_max = 1,5\n",
    "# yield_at_zero2_min, yield_at_zero2_max = 1,5\n",
    "# yield_at_zero3_min, yield_at_zero3_max = 1,5\n",
    "\n",
    "# theta_max1_min, theta_max1_max = 30,90\n",
    "# theta_max2_min, theta_max1_max = 30,90\n",
    "# theta_max3_min, theta_max1_max = 30,90\n",
    "\n",
    "# mizk_min, mizk_max = 0.001,0.005\n",
    "\n",
    "# p1_min, p1_max = 0, 0.002\n",
    "# p2_min, p2_max = 0.8, 1\n",
    "# p3_min, p3_max = 0, 0.002\n",
    "# p4_min, p4_max = 0.5,0.9\n",
    "# p5_min, p5_max = 0, 0.0002\n"
   ]
  },
  {
   "cell_type": "markdown",
   "metadata": {},
   "source": [
    "Calculating const"
   ]
  },
  {
   "cell_type": "code",
   "execution_count": 3,
   "metadata": {},
   "outputs": [
    {
     "data": {
      "text/plain": [
       "0.02"
      ]
     },
     "execution_count": 3,
     "metadata": {},
     "output_type": "execute_result"
    }
   ],
   "source": [
    "sample_value_flux, sample_value_time = 0.0031, 6.2\n",
    "sample_value_flux2, sample_value_time2 = 0.0009, 23\n",
    "\n",
    "sample_const1, sample_const2 = sample_value_flux*sample_value_time, sample_value_flux2*sample_value_time2\n",
    "\n",
    "#print(sample_const1, sample_const2) \n",
    "\n",
    "const = (sample_const1 + sample_const2)/2\n",
    "const = round(const,2)\n",
    "const"
   ]
  },
  {
   "cell_type": "code",
   "execution_count": 4,
   "metadata": {},
   "outputs": [],
   "source": [
    "features = ['HCl_flux',\n",
    "            'time_t'\n",
    "            # 'FrExponent',\n",
    "            # 'yield_at_zero1',\n",
    "            # 'yield_at_zero2',\n",
    "            # 'yield_at_zero3',\n",
    "            # 'yield_max1',\n",
    "            # 'yield_max2',\n",
    "            # 'yield_max3',\n",
    "            # 'theta_max1',\n",
    "            # 'theta_max2',\n",
    "            # 'theta_max3',\n",
    "            # 'mizk',\n",
    "            # 'p3',\n",
    "            # 'p4',\n",
    "            # 'p5'\n",
    "            ]"
   ]
  },
  {
   "cell_type": "code",
   "execution_count": 5,
   "metadata": {},
   "outputs": [],
   "source": [
    "feature_range_values = [[0.0003, 0.00972],\n",
    "                        [5, 28]\n",
    "                        # [1,100],\n",
    "                        # [1,100],\n",
    "                        # [1,5],\n",
    "                        # [1,5],\n",
    "                        # [1,5],\n",
    "                        # [1,10],\n",
    "                        # [1,10],\n",
    "                        # [1,10],\n",
    "                        # [30,90],\n",
    "                        # [30,90],\n",
    "                        # [30,90],\n",
    "                        # [0.005,0.05],\n",
    "                        # [0, 0.002],\n",
    "                        # [0.8, 1],\n",
    "                        # [0, 0.002],\n",
    "                        # [0.5,0.9],\n",
    "                        # [0, 0.0002]\n",
    "                        ]"
   ]
  },
  {
   "cell_type": "code",
   "execution_count": 6,
   "metadata": {},
   "outputs": [],
   "source": [
    "features_ranges = {}\n",
    "for i in range(len(features)):\n",
    "    features_ranges[features[i]] = feature_range_values[i]"
   ]
  },
  {
   "cell_type": "code",
   "execution_count": 7,
   "metadata": {},
   "outputs": [
    {
     "data": {
      "text/plain": [
       "{'HCl_flux': [0.0003, 0.00972], 'time_t': [5, 28]}"
      ]
     },
     "execution_count": 7,
     "metadata": {},
     "output_type": "execute_result"
    }
   ],
   "source": [
    "features_ranges"
   ]
  },
  {
   "cell_type": "code",
   "execution_count": 8,
   "metadata": {},
   "outputs": [
    {
     "data": {
      "text/plain": [
       "2"
      ]
     },
     "execution_count": 8,
     "metadata": {},
     "output_type": "execute_result"
    }
   ],
   "source": [
    "num_samples = int((feature_range_values[0][1] - feature_range_values[0][0])*100000)\n",
    "number_of_features = len(features)\n",
    "number_of_features"
   ]
  },
  {
   "cell_type": "code",
   "execution_count": 9,
   "metadata": {},
   "outputs": [
    {
     "data": {
      "text/plain": [
       "942"
      ]
     },
     "execution_count": 9,
     "metadata": {},
     "output_type": "execute_result"
    }
   ],
   "source": [
    "num_samples"
   ]
  },
  {
   "cell_type": "code",
   "execution_count": 10,
   "metadata": {},
   "outputs": [],
   "source": [
    "X = np.empty((num_samples,2))\n",
    "i = 1\n",
    "for i in range(num_samples):\n",
    "        X[i][0] = round(feature_range_values[0][0]+(i/100000),4)\n",
    "        i+=1"
   ]
  },
  {
   "cell_type": "code",
   "execution_count": 11,
   "metadata": {},
   "outputs": [],
   "source": [
    "import math\n",
    "for i in range(len(X)):\n",
    "    X[i][1] = math.ceil(const/X[i][0])"
   ]
  },
  {
   "cell_type": "code",
   "execution_count": 12,
   "metadata": {},
   "outputs": [
    {
     "data": {
      "text/plain": [
       "array([0.0003, 0.0004, 0.0005, 0.0006, 0.0007, 0.0008, 0.0009, 0.001 ,\n",
       "       0.0011, 0.0012, 0.0013, 0.0014, 0.0015, 0.0016, 0.0017, 0.0018,\n",
       "       0.0019, 0.002 , 0.0021, 0.0022, 0.0023, 0.0024, 0.0025, 0.0026,\n",
       "       0.0027, 0.0028, 0.0029, 0.003 , 0.0031, 0.0032, 0.0033, 0.0034,\n",
       "       0.0035, 0.0036, 0.0037, 0.0038, 0.0039, 0.004 , 0.0041, 0.0042,\n",
       "       0.0043, 0.0044, 0.0045, 0.0046, 0.0047, 0.0048, 0.0049, 0.005 ,\n",
       "       0.0051, 0.0052, 0.0053, 0.0054, 0.0055, 0.0056, 0.0057, 0.0058,\n",
       "       0.0059, 0.006 , 0.0061, 0.0062, 0.0063, 0.0064, 0.0065, 0.0066,\n",
       "       0.0067, 0.0068, 0.0069, 0.007 , 0.0071, 0.0072, 0.0073, 0.0074,\n",
       "       0.0075, 0.0076, 0.0077, 0.0078, 0.0079, 0.008 , 0.0081, 0.0082,\n",
       "       0.0083, 0.0084, 0.0085, 0.0086, 0.0087, 0.0088, 0.0089, 0.009 ,\n",
       "       0.0091, 0.0092, 0.0093, 0.0094, 0.0095, 0.0096, 0.0097])"
      ]
     },
     "execution_count": 12,
     "metadata": {},
     "output_type": "execute_result"
    }
   ],
   "source": [
    "y = np.unique(X[:,0])\n",
    "y"
   ]
  },
  {
   "cell_type": "code",
   "execution_count": 13,
   "metadata": {},
   "outputs": [
    {
     "data": {
      "text/plain": [
       "(array([ 95.,  90., 100.,  91.,  90., 100.,  89., 100.,  91.,  96.]),\n",
       " array([0.0003 , 0.00124, 0.00218, 0.00312, 0.00406, 0.005  , 0.00594,\n",
       "        0.00688, 0.00782, 0.00876, 0.0097 ]),\n",
       " <BarContainer object of 10 artists>)"
      ]
     },
     "execution_count": 13,
     "metadata": {},
     "output_type": "execute_result"
    },
    {
     "data": {
      "image/png": "[encoded data removed]",
      "text/plain": [
       "<Figure size 640x480 with 1 Axes>"
      ]
     },
     "metadata": {},
     "output_type": "display_data"
    }
   ],
   "source": [
    "import matplotlib.pyplot as plt\n",
    "\n",
    "plt.hist(X[:,0])"
   ]
  },
  {
   "cell_type": "code",
   "execution_count": 14,
   "metadata": {},
   "outputs": [],
   "source": [
    "# for i in range(len(X)):\n",
    "#     if (X[i][17] < X[i][14]):\n",
    "#         while (X[i][17] < X[i][14]):\n",
    "#             X[i][17] = round(random.uniform(feature_range_values[17][0], feature_range_values[17][1]),4)\n",
    "#     if (X[i][18] < X[i][15]):\n",
    "#         while (X[i][18] < X[i][15]):\n",
    "#             X[i][18] = round(random.uniform(feature_range_values[18][0], feature_range_values[18][1]),4)\n",
    "#     if (X[i][19] < X[i][16]):\n",
    "#         while (X[i][19] < X[i][16]):\n",
    "#             X[i][19] = round(random.uniform(feature_range_values[19][0], feature_range_values[19][1]),4)"
   ]
  },
  {
   "cell_type": "code",
   "execution_count": 15,
   "metadata": {},
   "outputs": [],
   "source": [
    "X_dataframe = pd.DataFrame(X,columns = features)"
   ]
  },
  {
   "cell_type": "code",
   "execution_count": 16,
   "metadata": {},
   "outputs": [],
   "source": [
    "X_dataframe.drop_duplicates(subset=['HCl_flux'], inplace=True)"
   ]
  },
  {
   "cell_type": "code",
   "execution_count": 17,
   "metadata": {},
   "outputs": [
    {
     "data": {
      "text/html": [
       "<div>\n",
       "<style scoped>\n",
       "    .dataframe tbody tr th:only-of-type {\n",
       "        vertical-align: middle;\n",
       "    }\n",
       "\n",
       "    .dataframe tbody tr th {\n",
       "        vertical-align: top;\n",
       "    }\n",
       "\n",
       "    .dataframe thead th {\n",
       "        text-align: right;\n",
       "    }\n",
       "</style>\n",
       "<table border=\"1\" class=\"dataframe\">\n",
       "  <thead>\n",
       "    <tr style=\"text-align: right;\">\n",
       "      <th></th>\n",
       "      <th>index</th>\n",
       "      <th>HCl_flux</th>\n",
       "      <th>time_t</th>\n",
       "    </tr>\n",
       "  </thead>\n",
       "  <tbody>\n",
       "    <tr>\n",
       "      <th>0</th>\n",
       "      <td>0</td>\n",
       "      <td>0.0003</td>\n",
       "      <td>67.0</td>\n",
       "    </tr>\n",
       "    <tr>\n",
       "      <th>1</th>\n",
       "      <td>6</td>\n",
       "      <td>0.0004</td>\n",
       "      <td>50.0</td>\n",
       "    </tr>\n",
       "    <tr>\n",
       "      <th>2</th>\n",
       "      <td>16</td>\n",
       "      <td>0.0005</td>\n",
       "      <td>40.0</td>\n",
       "    </tr>\n",
       "    <tr>\n",
       "      <th>3</th>\n",
       "      <td>26</td>\n",
       "      <td>0.0006</td>\n",
       "      <td>34.0</td>\n",
       "    </tr>\n",
       "    <tr>\n",
       "      <th>4</th>\n",
       "      <td>36</td>\n",
       "      <td>0.0007</td>\n",
       "      <td>29.0</td>\n",
       "    </tr>\n",
       "    <tr>\n",
       "      <th>...</th>\n",
       "      <td>...</td>\n",
       "      <td>...</td>\n",
       "      <td>...</td>\n",
       "    </tr>\n",
       "    <tr>\n",
       "      <th>90</th>\n",
       "      <td>896</td>\n",
       "      <td>0.0093</td>\n",
       "      <td>3.0</td>\n",
       "    </tr>\n",
       "    <tr>\n",
       "      <th>91</th>\n",
       "      <td>905</td>\n",
       "      <td>0.0094</td>\n",
       "      <td>3.0</td>\n",
       "    </tr>\n",
       "    <tr>\n",
       "      <th>92</th>\n",
       "      <td>915</td>\n",
       "      <td>0.0095</td>\n",
       "      <td>3.0</td>\n",
       "    </tr>\n",
       "    <tr>\n",
       "      <th>93</th>\n",
       "      <td>926</td>\n",
       "      <td>0.0096</td>\n",
       "      <td>3.0</td>\n",
       "    </tr>\n",
       "    <tr>\n",
       "      <th>94</th>\n",
       "      <td>935</td>\n",
       "      <td>0.0097</td>\n",
       "      <td>3.0</td>\n",
       "    </tr>\n",
       "  </tbody>\n",
       "</table>\n",
       "<p>95 rows × 3 columns</p>\n",
       "</div>"
      ],
      "text/plain": [
       "    index  HCl_flux  time_t\n",
       "0       0    0.0003    67.0\n",
       "1       6    0.0004    50.0\n",
       "2      16    0.0005    40.0\n",
       "3      26    0.0006    34.0\n",
       "4      36    0.0007    29.0\n",
       "..    ...       ...     ...\n",
       "90    896    0.0093     3.0\n",
       "91    905    0.0094     3.0\n",
       "92    915    0.0095     3.0\n",
       "93    926    0.0096     3.0\n",
       "94    935    0.0097     3.0\n",
       "\n",
       "[95 rows x 3 columns]"
      ]
     },
     "execution_count": 17,
     "metadata": {},
     "output_type": "execute_result"
    }
   ],
   "source": [
    "X_dataframe.reset_index()"
   ]
  },
  {
   "cell_type": "code",
   "execution_count": 18,
   "metadata": {},
   "outputs": [
    {
     "data": {
      "text/plain": [
       "0.02"
      ]
     },
     "execution_count": 18,
     "metadata": {},
     "output_type": "execute_result"
    }
   ],
   "source": [
    "round((X_dataframe['HCl_flux']*X_dataframe['time_t']).mean(),2)"
   ]
  },
  {
   "cell_type": "code",
   "execution_count": 19,
   "metadata": {},
   "outputs": [
    {
     "data": {
      "text/plain": [
       "31"
      ]
     },
     "execution_count": 19,
     "metadata": {},
     "output_type": "execute_result"
    }
   ],
   "source": [
    "(X_dataframe['time_t']<4).sum()"
   ]
  },
  {
   "cell_type": "code",
   "execution_count": 20,
   "metadata": {},
   "outputs": [
    {
     "data": {
      "text/plain": [
       "0      13\n",
       "6      10\n",
       "16      8\n",
       "26      6\n",
       "36      5\n",
       "       ..\n",
       "896     0\n",
       "905     0\n",
       "915     0\n",
       "926     0\n",
       "935     0\n",
       "Name: interval, Length: 95, dtype: int64"
      ]
     },
     "execution_count": 20,
     "metadata": {},
     "output_type": "execute_result"
    }
   ],
   "source": [
    "X_dataframe['interval'] = X_dataframe['time_t'].apply(lambda x: int(x/5))\n",
    "X_dataframe['interval']"
   ]
  },
  {
   "cell_type": "code",
   "execution_count": 21,
   "metadata": {},
   "outputs": [],
   "source": [
    "new_X_df = pd.DataFrame()\n",
    "\n",
    "for index, row in X_dataframe.iterrows():\n",
    "    if row['interval']==0:\n",
    "        arr_dict = {'HCl_flux':row['HCl_flux'], 'time_t1': row['interval']+1, 'time_t2': row['interval']+2, 'time_t3': row['interval']+3, 'time_t4': row['interval']+4, 'time_t5': row['interval']+5, \n",
    "                'rel_time':1,'last':1}\n",
    "    else: \n",
    "        last_interval = row['time_t'] - row['interval']*4\n",
    "        arr_dict = {'HCl_flux':row['HCl_flux'], 'time_t1': row['interval'], 'time_t2': row['interval']*2, 'time_t3': row['interval']*3, 'time_t4': row['interval']*4, 'time_t5': row['time_t'], \n",
    "                'rel_time':row['interval'],'last':last_interval}\n",
    "        \n",
    "    new_X_df = new_X_df._append(arr_dict, ignore_index=True)"
   ]
  },
  {
   "cell_type": "code",
   "execution_count": 22,
   "metadata": {},
   "outputs": [
    {
     "data": {
      "text/html": [
       "<div>\n",
       "<style scoped>\n",
       "    .dataframe tbody tr th:only-of-type {\n",
       "        vertical-align: middle;\n",
       "    }\n",
       "\n",
       "    .dataframe tbody tr th {\n",
       "        vertical-align: top;\n",
       "    }\n",
       "\n",
       "    .dataframe thead th {\n",
       "        text-align: right;\n",
       "    }\n",
       "</style>\n",
       "<table border=\"1\" class=\"dataframe\">\n",
       "  <thead>\n",
       "    <tr style=\"text-align: right;\">\n",
       "      <th></th>\n",
       "      <th>HCl_flux</th>\n",
       "      <th>time_t1</th>\n",
       "      <th>time_t2</th>\n",
       "      <th>time_t3</th>\n",
       "      <th>time_t4</th>\n",
       "      <th>time_t5</th>\n",
       "      <th>rel_time</th>\n",
       "      <th>last</th>\n",
       "    </tr>\n",
       "  </thead>\n",
       "  <tbody>\n",
       "    <tr>\n",
       "      <th>0</th>\n",
       "      <td>0.0003</td>\n",
       "      <td>13.0</td>\n",
       "      <td>26.0</td>\n",
       "      <td>39.0</td>\n",
       "      <td>52.0</td>\n",
       "      <td>67.0</td>\n",
       "      <td>13.0</td>\n",
       "      <td>15.0</td>\n",
       "    </tr>\n",
       "    <tr>\n",
       "      <th>1</th>\n",
       "      <td>0.0004</td>\n",
       "      <td>10.0</td>\n",
       "      <td>20.0</td>\n",
       "      <td>30.0</td>\n",
       "      <td>40.0</td>\n",
       "      <td>50.0</td>\n",
       "      <td>10.0</td>\n",
       "      <td>10.0</td>\n",
       "    </tr>\n",
       "    <tr>\n",
       "      <th>2</th>\n",
       "      <td>0.0005</td>\n",
       "      <td>8.0</td>\n",
       "      <td>16.0</td>\n",
       "      <td>24.0</td>\n",
       "      <td>32.0</td>\n",
       "      <td>40.0</td>\n",
       "      <td>8.0</td>\n",
       "      <td>8.0</td>\n",
       "    </tr>\n",
       "    <tr>\n",
       "      <th>3</th>\n",
       "      <td>0.0006</td>\n",
       "      <td>6.0</td>\n",
       "      <td>12.0</td>\n",
       "      <td>18.0</td>\n",
       "      <td>24.0</td>\n",
       "      <td>34.0</td>\n",
       "      <td>6.0</td>\n",
       "      <td>10.0</td>\n",
       "    </tr>\n",
       "    <tr>\n",
       "      <th>4</th>\n",
       "      <td>0.0007</td>\n",
       "      <td>5.0</td>\n",
       "      <td>10.0</td>\n",
       "      <td>15.0</td>\n",
       "      <td>20.0</td>\n",
       "      <td>29.0</td>\n",
       "      <td>5.0</td>\n",
       "      <td>9.0</td>\n",
       "    </tr>\n",
       "    <tr>\n",
       "      <th>...</th>\n",
       "      <td>...</td>\n",
       "      <td>...</td>\n",
       "      <td>...</td>\n",
       "      <td>...</td>\n",
       "      <td>...</td>\n",
       "      <td>...</td>\n",
       "      <td>...</td>\n",
       "      <td>...</td>\n",
       "    </tr>\n",
       "    <tr>\n",
       "      <th>90</th>\n",
       "      <td>0.0093</td>\n",
       "      <td>1.0</td>\n",
       "      <td>2.0</td>\n",
       "      <td>3.0</td>\n",
       "      <td>4.0</td>\n",
       "      <td>5.0</td>\n",
       "      <td>1.0</td>\n",
       "      <td>1.0</td>\n",
       "    </tr>\n",
       "    <tr>\n",
       "      <th>91</th>\n",
       "      <td>0.0094</td>\n",
       "      <td>1.0</td>\n",
       "      <td>2.0</td>\n",
       "      <td>3.0</td>\n",
       "      <td>4.0</td>\n",
       "      <td>5.0</td>\n",
       "      <td>1.0</td>\n",
       "      <td>1.0</td>\n",
       "    </tr>\n",
       "    <tr>\n",
       "      <th>92</th>\n",
       "      <td>0.0095</td>\n",
       "      <td>1.0</td>\n",
       "      <td>2.0</td>\n",
       "      <td>3.0</td>\n",
       "      <td>4.0</td>\n",
       "      <td>5.0</td>\n",
       "      <td>1.0</td>\n",
       "      <td>1.0</td>\n",
       "    </tr>\n",
       "    <tr>\n",
       "      <th>93</th>\n",
       "      <td>0.0096</td>\n",
       "      <td>1.0</td>\n",
       "      <td>2.0</td>\n",
       "      <td>3.0</td>\n",
       "      <td>4.0</td>\n",
       "      <td>5.0</td>\n",
       "      <td>1.0</td>\n",
       "      <td>1.0</td>\n",
       "    </tr>\n",
       "    <tr>\n",
       "      <th>94</th>\n",
       "      <td>0.0097</td>\n",
       "      <td>1.0</td>\n",
       "      <td>2.0</td>\n",
       "      <td>3.0</td>\n",
       "      <td>4.0</td>\n",
       "      <td>5.0</td>\n",
       "      <td>1.0</td>\n",
       "      <td>1.0</td>\n",
       "    </tr>\n",
       "  </tbody>\n",
       "</table>\n",
       "<p>95 rows × 8 columns</p>\n",
       "</div>"
      ],
      "text/plain": [
       "    HCl_flux  time_t1  time_t2  time_t3  time_t4  time_t5  rel_time  last\n",
       "0     0.0003     13.0     26.0     39.0     52.0     67.0      13.0  15.0\n",
       "1     0.0004     10.0     20.0     30.0     40.0     50.0      10.0  10.0\n",
       "2     0.0005      8.0     16.0     24.0     32.0     40.0       8.0   8.0\n",
       "3     0.0006      6.0     12.0     18.0     24.0     34.0       6.0  10.0\n",
       "4     0.0007      5.0     10.0     15.0     20.0     29.0       5.0   9.0\n",
       "..       ...      ...      ...      ...      ...      ...       ...   ...\n",
       "90    0.0093      1.0      2.0      3.0      4.0      5.0       1.0   1.0\n",
       "91    0.0094      1.0      2.0      3.0      4.0      5.0       1.0   1.0\n",
       "92    0.0095      1.0      2.0      3.0      4.0      5.0       1.0   1.0\n",
       "93    0.0096      1.0      2.0      3.0      4.0      5.0       1.0   1.0\n",
       "94    0.0097      1.0      2.0      3.0      4.0      5.0       1.0   1.0\n",
       "\n",
       "[95 rows x 8 columns]"
      ]
     },
     "execution_count": 22,
     "metadata": {},
     "output_type": "execute_result"
    }
   ],
   "source": [
    "new_X_df"
   ]
  },
  {
   "cell_type": "code",
   "execution_count": 23,
   "metadata": {},
   "outputs": [],
   "source": [
    "sed = \"sed  -e 's/HCl_flux/'$HCl_flux'/g' -e 's/time_t1/'$time_t1'/g' -e 's/time_t2/'$time_t2'/g' -e 's/time_t3/'$time_t3'/g' -e 's/time_t4/'$time_t4'/g' -e 's/time_t5/'$time_t5'/g' -e 's/rel_time/'$rel_time'/g' -e 's/last/'$last'/g' channel_release.cmd > temp_channel_release.cmd\\n\"\n",
    "# sed2 = \"sed  -e  's/HCl_flux/'$HCl_flux'/g' -e 's/time_t/'$time_t'/g' etching_data_extraction.cmd > temp_etching_data_extraction.cmd\\n\""
   ]
  },
  {
   "cell_type": "code",
   "execution_count": 24,
   "metadata": {},
   "outputs": [],
   "source": [
    "features = new_X_df.columns"
   ]
  },
  {
   "cell_type": "code",
   "execution_count": 25,
   "metadata": {},
   "outputs": [],
   "source": [
    "file_name = ''\n",
    "for feature in features:\n",
    "    file_name+=f\"_{feature}\""
   ]
  },
  {
   "cell_type": "code",
   "execution_count": 26,
   "metadata": {},
   "outputs": [
    {
     "data": {
      "text/plain": [
       "'_HCl_flux_time_t1_time_t2_time_t3_time_t4_time_t5_rel_time_last'"
      ]
     },
     "execution_count": 26,
     "metadata": {},
     "output_type": "execute_result"
    }
   ],
   "source": [
    "file_name"
   ]
  },
  {
   "cell_type": "code",
   "execution_count": 27,
   "metadata": {},
   "outputs": [],
   "source": [
    "run_files = 'stopo temp_channel_release.cmd\\n'\n",
    "# run_files+= 'stopo temp_etching_data_extraction.cmd\\n'\n"
   ]
  },
  {
   "cell_type": "code",
   "execution_count": 28,
   "metadata": {},
   "outputs": [],
   "source": [
    "# text  = ''\n",
    "\n",
    "# for i in range(10):\n",
    "    \n",
    "#     params = ''\n",
    "#     dir_name = ''\n",
    "#     for j in range(2):\n",
    "#         params += f'{features[j]}={X[i][j]}\\n'\n",
    "#         dir_name += f'_{X[i][j]}'\n",
    "#     text+= f'mkdir -p csvfiles/file{dir_name}\\n'\n",
    "#     text+= f'mkdir -p tdrfiles/file{dir_name}\\n'\n",
    "#     text+= 'export '\n",
    "#     text += params\n",
    "#         # text += f\"time_t={k+1}\\n\"\n",
    "#     text += sed\n",
    "#         # text += sed2\n",
    "#     text += run_files\n",
    "       "
   ]
  },
  {
   "cell_type": "code",
   "execution_count": 29,
   "metadata": {},
   "outputs": [],
   "source": [
    "text = ''\n",
    "i = 0\n",
    "for index, row in new_X_df.iterrows():\n",
    "        params = ''\n",
    "        params += f'{new_X_df.columns[0]}={row[0]}\\n{new_X_df.columns[1]}={row[1]}\\n{new_X_df.columns[2]}={row[2]}\\n{new_X_df.columns[3]}={row[3]}\\n{new_X_df.columns[4]}={row[4]}\\n{new_X_df.columns[5]}={row[5]}\\n{new_X_df.columns[6]}={row[6]}\\n{new_X_df.columns[7]}={row[7]}\\n'\n",
    "        text+= 'export '\n",
    "        text+= params\n",
    "        text += sed\n",
    "        text += run_files\n",
    "        i+=1"
   ]
  },
  {
   "cell_type": "code",
   "execution_count": 30,
   "metadata": {},
   "outputs": [],
   "source": [
    "with open('./shell_channel_release.sh','w') as file:\n",
    "    file.write(text)"
   ]
  },
  {
   "cell_type": "markdown",
   "metadata": {},
   "source": [
    "extract"
   ]
  },
  {
   "cell_type": "code",
   "execution_count": 31,
   "metadata": {},
   "outputs": [],
   "source": [
    "sed_e = f\"sed  -e 's/HCl_flux/'$HCl_flux'/g' -e 's/time/'$time'/g' extract.cmd > temp_extract.cmd\\n\"\n",
    "run_files_e = f\"sptopo3d temp_extract.cmd\\n\""
   ]
  },
  {
   "cell_type": "code",
   "execution_count": 32,
   "metadata": {},
   "outputs": [],
   "source": [
    "text = ''\n",
    "i = 0\n",
    "for index, row in new_X_df.iterrows():\n",
    "\n",
    "        params = ''\n",
    "        params += f'HCl_flux={row[0]}\\ntime={row[1]}\\n'\n",
    "        text+= 'export '\n",
    "        text+= params\n",
    "        text += sed_e\n",
    "        text += run_files_e\n",
    "\n",
    "        params = ''\n",
    "        params += f'HCl_flux={row[0]}\\ntime={row[2]}\\n'\n",
    "        text+= 'export '\n",
    "        text+= params\n",
    "        text += sed_e\n",
    "        text += run_files_e\n",
    "\n",
    "        params = ''\n",
    "        params += f'HCl_flux={row[0]}\\ntime={row[3]}\\n'\n",
    "        text+= 'export '\n",
    "        text+= params\n",
    "        text += sed_e\n",
    "        text += run_files_e\n",
    "\n",
    "        params = ''\n",
    "        params += f'HCl_flux={row[0]}\\ntime={row[4]}\\n'\n",
    "        text+= 'export '\n",
    "        text+= params\n",
    "        text += sed_e\n",
    "        text += run_files_e\n",
    "\n",
    "        params = ''\n",
    "        params += f'HCl_flux={row[0]}\\ntime={row[5]}\\n'\n",
    "        text+= 'export '\n",
    "        text+= params\n",
    "        text += sed_e\n",
    "        text += run_files_e\n",
    "        \n",
    "        i+=1"
   ]
  },
  {
   "cell_type": "code",
   "execution_count": 33,
   "metadata": {},
   "outputs": [],
   "source": [
    "with open('./shell_extract.sh','w') as file:\n",
    "    file.write(text)"
   ]
  },
  {
   "cell_type": "markdown",
   "metadata": {},
   "source": [
    "Images\n"
   ]
  },
  {
   "cell_type": "code",
   "execution_count": 39,
   "metadata": {},
   "outputs": [],
   "source": [
    "sed_i = f\"sed  -e 's/HCl_flux/'$HCl_flux'/g' -e 's/time/'$time'/g' image.tcl > temp_image.tcl\\n\"\n",
    "run_files_i = f\"svisual -bx temp_image.tcl\\n\""
   ]
  },
  {
   "cell_type": "code",
   "execution_count": 46,
   "metadata": {},
   "outputs": [],
   "source": [
    "text = ''\n",
    "mkdir = ''\n",
    "i = 0\n",
    "for index, row in new_X_df.iterrows():\n",
    "        mkdir = f'mkdir -p images/file_{row[0]}\\n'\n",
    "        text+=mkdir\n",
    "        params = ''\n",
    "        params += f'HCl_flux={row[0]}\\ntime={row[1]}\\n'\n",
    "        text+= 'export '\n",
    "        text+= params\n",
    "        text += sed_i\n",
    "        text += run_files_i\n",
    "\n",
    "        params = ''\n",
    "        params += f'HCl_flux={row[0]}\\ntime={row[2]}\\n'\n",
    "        text+= 'export '\n",
    "        text+= params\n",
    "        text += sed_i\n",
    "        text += run_files_i\n",
    "\n",
    "        params = ''\n",
    "        params += f'HCl_flux={row[0]}\\ntime={row[3]}\\n'\n",
    "        text+= 'export '\n",
    "        text+= params\n",
    "        text += sed_i\n",
    "        text += run_files_i\n",
    "\n",
    "        params = ''\n",
    "        params += f'HCl_flux={row[0]}\\ntime={row[4]}\\n'\n",
    "        text+= 'export '\n",
    "        text+= params\n",
    "        text += sed_i\n",
    "        text += run_files_i\n",
    "\n",
    "        i+=1"
   ]
  },
  {
   "cell_type": "code",
   "execution_count": 47,
   "metadata": {},
   "outputs": [],
   "source": [
    "with open('./images.sh','w') as file:\n",
    "    file.write(text)"
   ]
  },
  {
   "cell_type": "code",
   "execution_count": null,
   "metadata": {},
   "outputs": [],
   "source": []
  }
 ],
 "metadata": {
  "kernelspec": {
   "display_name": "Python 3",
   "language": "python",
   "name": "python3"
  },
  "language_info": {
   "codemirror_mode": {
    "name": "ipython",
    "version": 3
   },
   "file_extension": ".py",
   "mimetype": "text/x-python",
   "name": "python",
   "nbconvert_exporter": "python",
   "pygments_lexer": "ipython3",
   "version": "3.11.3"
  },
  "orig_nbformat": 4,
  "vscode": {
   "interpreter": {
    "hash": "aee8b7b246df8f9039afb4144a1f6fd8d2ca17a180786b69acc140d282b71a49"
   }
  }
 },
 "nbformat": 4,
 "nbformat_minor": 2
}
